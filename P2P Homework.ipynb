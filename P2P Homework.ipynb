{
 "cells": [
  {
   "cell_type": "markdown",
   "metadata": {},
   "source": [
    "#### Group Member： \n",
    "|Names|Student ID|\n",
    "|:---:|:--------:|\n",
    "|GUO Yidan|1155132659|\n",
    "|HE Yuxiang|1155128541|\n",
    "|LI Run|1155128545|\n",
    "|LI Ziyun|1155132664|\n",
    "|XIAO Shengzong|1155132829|"
   ]
  },
  {
   "cell_type": "markdown",
   "metadata": {},
   "source": [
    "## Data Overview"
   ]
  },
  {
   "cell_type": "code",
   "execution_count": 1,
   "metadata": {},
   "outputs": [],
   "source": [
    "#import packages\n",
    "import pandas as pd\n",
    "import numpy as np\n",
    "import matplotlib.pyplot as plt\n",
    "import seaborn as sns\n",
    "%matplotlib inline\n",
    "\n",
    "from scipy.stats import norm\n",
    "from sklearn.preprocessing import StandardScaler\n",
    "from sklearn import preprocessing,metrics\n",
    "pd.set_option(\"display.max_columns\",75)\n",
    "\n",
    "import itertools\n",
    "from sklearn.metrics import confusion_matrix\n",
    "from sklearn.model_selection import train_test_split\n",
    "from sklearn.feature_selection import RFE\n",
    "from sklearn.decomposition import PCA\n",
    "\n",
    "from sklearn.ensemble import RandomForestClassifier\n",
    "from sklearn.metrics import accuracy_score\n",
    "from sklearn import linear_model\n",
    "from sklearn.metrics import average_precision_score\n",
    "from sklearn.metrics import precision_recall_curve"
   ]
  },
  {
   "cell_type": "code",
   "execution_count": 2,
   "metadata": {},
   "outputs": [
    {
     "data": {
      "text/html": [
       "<div>\n",
       "<style scoped>\n",
       "    .dataframe tbody tr th:only-of-type {\n",
       "        vertical-align: middle;\n",
       "    }\n",
       "\n",
       "    .dataframe tbody tr th {\n",
       "        vertical-align: top;\n",
       "    }\n",
       "\n",
       "    .dataframe thead th {\n",
       "        text-align: right;\n",
       "    }\n",
       "</style>\n",
       "<table border=\"1\" class=\"dataframe\">\n",
       "  <thead>\n",
       "    <tr style=\"text-align: right;\">\n",
       "      <th></th>\n",
       "      <th>Unnamed: 0</th>\n",
       "      <th>id</th>\n",
       "      <th>loan_amnt</th>\n",
       "      <th>funded_amnt</th>\n",
       "      <th>term</th>\n",
       "      <th>int_rate</th>\n",
       "      <th>installment</th>\n",
       "      <th>emp_length</th>\n",
       "      <th>home_ownership</th>\n",
       "      <th>annual_inc</th>\n",
       "      <th>loan_status</th>\n",
       "      <th>purpose</th>\n",
       "      <th>addr_state</th>\n",
       "      <th>dti</th>\n",
       "      <th>delinq_2yrs</th>\n",
       "    </tr>\n",
       "  </thead>\n",
       "  <tbody>\n",
       "    <tr>\n",
       "      <th>0</th>\n",
       "      <td>20</td>\n",
       "      <td>571203</td>\n",
       "      <td>18000</td>\n",
       "      <td>18000</td>\n",
       "      <td>60 months</td>\n",
       "      <td>10.16%</td>\n",
       "      <td>383.87</td>\n",
       "      <td>10+ years</td>\n",
       "      <td>MORTGAGE</td>\n",
       "      <td>72804.0</td>\n",
       "      <td>Current</td>\n",
       "      <td>credit_card</td>\n",
       "      <td>MA</td>\n",
       "      <td>16.73</td>\n",
       "      <td>0.0</td>\n",
       "    </tr>\n",
       "    <tr>\n",
       "      <th>1</th>\n",
       "      <td>40</td>\n",
       "      <td>641849</td>\n",
       "      <td>13200</td>\n",
       "      <td>13200</td>\n",
       "      <td>36 months</td>\n",
       "      <td>18.49%</td>\n",
       "      <td>480.47</td>\n",
       "      <td>2 years</td>\n",
       "      <td>RENT</td>\n",
       "      <td>110000.0</td>\n",
       "      <td>Current</td>\n",
       "      <td>debt_consolidation</td>\n",
       "      <td>IL</td>\n",
       "      <td>17.02</td>\n",
       "      <td>0.0</td>\n",
       "    </tr>\n",
       "    <tr>\n",
       "      <th>2</th>\n",
       "      <td>60</td>\n",
       "      <td>694891</td>\n",
       "      <td>15675</td>\n",
       "      <td>15675</td>\n",
       "      <td>36 months</td>\n",
       "      <td>8.90%</td>\n",
       "      <td>497.74</td>\n",
       "      <td>10+ years</td>\n",
       "      <td>MORTGAGE</td>\n",
       "      <td>100000.0</td>\n",
       "      <td>Current</td>\n",
       "      <td>small_business</td>\n",
       "      <td>WA</td>\n",
       "      <td>9.10</td>\n",
       "      <td>0.0</td>\n",
       "    </tr>\n",
       "    <tr>\n",
       "      <th>3</th>\n",
       "      <td>80</td>\n",
       "      <td>734736</td>\n",
       "      <td>21600</td>\n",
       "      <td>21600</td>\n",
       "      <td>36 months</td>\n",
       "      <td>7.90%</td>\n",
       "      <td>675.87</td>\n",
       "      <td>10+ years</td>\n",
       "      <td>MORTGAGE</td>\n",
       "      <td>95000.0</td>\n",
       "      <td>Fully Paid</td>\n",
       "      <td>house</td>\n",
       "      <td>WI</td>\n",
       "      <td>3.42</td>\n",
       "      <td>0.0</td>\n",
       "    </tr>\n",
       "    <tr>\n",
       "      <th>4</th>\n",
       "      <td>100</td>\n",
       "      <td>784712</td>\n",
       "      <td>16500</td>\n",
       "      <td>16500</td>\n",
       "      <td>60 months</td>\n",
       "      <td>7.90%</td>\n",
       "      <td>333.78</td>\n",
       "      <td>2 years</td>\n",
       "      <td>MORTGAGE</td>\n",
       "      <td>42000.0</td>\n",
       "      <td>Late (31-120 days)</td>\n",
       "      <td>small_business</td>\n",
       "      <td>NY</td>\n",
       "      <td>10.43</td>\n",
       "      <td>0.0</td>\n",
       "    </tr>\n",
       "    <tr>\n",
       "      <th>5</th>\n",
       "      <td>120</td>\n",
       "      <td>807342</td>\n",
       "      <td>21000</td>\n",
       "      <td>21000</td>\n",
       "      <td>36 months</td>\n",
       "      <td>6.62%</td>\n",
       "      <td>644.78</td>\n",
       "      <td>10+ years</td>\n",
       "      <td>MORTGAGE</td>\n",
       "      <td>121392.0</td>\n",
       "      <td>Current</td>\n",
       "      <td>major_purchase</td>\n",
       "      <td>PA</td>\n",
       "      <td>19.53</td>\n",
       "      <td>0.0</td>\n",
       "    </tr>\n",
       "    <tr>\n",
       "      <th>6</th>\n",
       "      <td>140</td>\n",
       "      <td>843448</td>\n",
       "      <td>5500</td>\n",
       "      <td>5500</td>\n",
       "      <td>36 months</td>\n",
       "      <td>13.67%</td>\n",
       "      <td>187.10</td>\n",
       "      <td>3 years</td>\n",
       "      <td>RENT</td>\n",
       "      <td>55000.0</td>\n",
       "      <td>Fully Paid</td>\n",
       "      <td>debt_consolidation</td>\n",
       "      <td>NJ</td>\n",
       "      <td>20.71</td>\n",
       "      <td>0.0</td>\n",
       "    </tr>\n",
       "    <tr>\n",
       "      <th>7</th>\n",
       "      <td>160</td>\n",
       "      <td>880114</td>\n",
       "      <td>5600</td>\n",
       "      <td>5600</td>\n",
       "      <td>36 months</td>\n",
       "      <td>9.99%</td>\n",
       "      <td>180.67</td>\n",
       "      <td>1 year</td>\n",
       "      <td>RENT</td>\n",
       "      <td>75000.0</td>\n",
       "      <td>Current</td>\n",
       "      <td>debt_consolidation</td>\n",
       "      <td>NY</td>\n",
       "      <td>8.24</td>\n",
       "      <td>0.0</td>\n",
       "    </tr>\n",
       "    <tr>\n",
       "      <th>8</th>\n",
       "      <td>180</td>\n",
       "      <td>974654</td>\n",
       "      <td>6400</td>\n",
       "      <td>6400</td>\n",
       "      <td>36 months</td>\n",
       "      <td>15.80%</td>\n",
       "      <td>224.38</td>\n",
       "      <td>2 years</td>\n",
       "      <td>RENT</td>\n",
       "      <td>34000.0</td>\n",
       "      <td>Current</td>\n",
       "      <td>debt_consolidation</td>\n",
       "      <td>VA</td>\n",
       "      <td>32.40</td>\n",
       "      <td>0.0</td>\n",
       "    </tr>\n",
       "    <tr>\n",
       "      <th>9</th>\n",
       "      <td>200</td>\n",
       "      <td>999547</td>\n",
       "      <td>16000</td>\n",
       "      <td>16000</td>\n",
       "      <td>36 months</td>\n",
       "      <td>10.16%</td>\n",
       "      <td>517.48</td>\n",
       "      <td>NaN</td>\n",
       "      <td>RENT</td>\n",
       "      <td>155000.0</td>\n",
       "      <td>Late (31-120 days)</td>\n",
       "      <td>debt_consolidation</td>\n",
       "      <td>CA</td>\n",
       "      <td>26.49</td>\n",
       "      <td>0.0</td>\n",
       "    </tr>\n",
       "  </tbody>\n",
       "</table>\n",
       "</div>"
      ],
      "text/plain": [
       "   Unnamed: 0      id  loan_amnt  funded_amnt        term int_rate  \\\n",
       "0          20  571203      18000        18000   60 months   10.16%   \n",
       "1          40  641849      13200        13200   36 months   18.49%   \n",
       "2          60  694891      15675        15675   36 months    8.90%   \n",
       "3          80  734736      21600        21600   36 months    7.90%   \n",
       "4         100  784712      16500        16500   60 months    7.90%   \n",
       "5         120  807342      21000        21000   36 months    6.62%   \n",
       "6         140  843448       5500         5500   36 months   13.67%   \n",
       "7         160  880114       5600         5600   36 months    9.99%   \n",
       "8         180  974654       6400         6400   36 months   15.80%   \n",
       "9         200  999547      16000        16000   36 months   10.16%   \n",
       "\n",
       "   installment emp_length home_ownership  annual_inc         loan_status  \\\n",
       "0       383.87  10+ years       MORTGAGE     72804.0             Current   \n",
       "1       480.47    2 years           RENT    110000.0             Current   \n",
       "2       497.74  10+ years       MORTGAGE    100000.0             Current   \n",
       "3       675.87  10+ years       MORTGAGE     95000.0          Fully Paid   \n",
       "4       333.78    2 years       MORTGAGE     42000.0  Late (31-120 days)   \n",
       "5       644.78  10+ years       MORTGAGE    121392.0             Current   \n",
       "6       187.10    3 years           RENT     55000.0          Fully Paid   \n",
       "7       180.67     1 year           RENT     75000.0             Current   \n",
       "8       224.38    2 years           RENT     34000.0             Current   \n",
       "9       517.48        NaN           RENT    155000.0  Late (31-120 days)   \n",
       "\n",
       "              purpose addr_state    dti  delinq_2yrs  \n",
       "0         credit_card         MA  16.73          0.0  \n",
       "1  debt_consolidation         IL  17.02          0.0  \n",
       "2      small_business         WA   9.10          0.0  \n",
       "3               house         WI   3.42          0.0  \n",
       "4      small_business         NY  10.43          0.0  \n",
       "5      major_purchase         PA  19.53          0.0  \n",
       "6  debt_consolidation         NJ  20.71          0.0  \n",
       "7  debt_consolidation         NY   8.24          0.0  \n",
       "8  debt_consolidation         VA  32.40          0.0  \n",
       "9  debt_consolidation         CA  26.49          0.0  "
      ]
     },
     "execution_count": 2,
     "metadata": {},
     "output_type": "execute_result"
    }
   ],
   "source": [
    "#Read data\n",
    "df = pd.read_csv(\"loan.csv\", low_memory = False)\n",
    "\n",
    "#An overview of the data\n",
    "df.iloc[:,0:15].head(10)"
   ]
  },
  {
   "cell_type": "code",
   "execution_count": 3,
   "metadata": {},
   "outputs": [
    {
     "name": "stdout",
     "output_type": "stream",
     "text": [
      "<class 'pandas.core.frame.DataFrame'>\n",
      "RangeIndex: 10000 entries, 0 to 9999\n",
      "Data columns (total 24 columns):\n",
      "Unnamed: 0                10000 non-null int64\n",
      "id                        10000 non-null int64\n",
      "loan_amnt                 10000 non-null int64\n",
      "funded_amnt               10000 non-null int64\n",
      "term                      9524 non-null object\n",
      "int_rate                  9524 non-null object\n",
      "installment               9524 non-null float64\n",
      "emp_length                9119 non-null object\n",
      "home_ownership            9524 non-null object\n",
      "annual_inc                9524 non-null float64\n",
      "loan_status               9524 non-null object\n",
      "purpose                   9524 non-null object\n",
      "addr_state                10000 non-null object\n",
      "dti                       9524 non-null float64\n",
      "delinq_2yrs               9524 non-null float64\n",
      "earliest_cr_line          9524 non-null object\n",
      "mths_since_last_delinq    4100 non-null float64\n",
      "open_acc                  9524 non-null float64\n",
      "revol_bal                 9524 non-null float64\n",
      "total_acc                 9524 non-null float64\n",
      "out_prncp                 9524 non-null float64\n",
      "total_pymnt               9524 non-null float64\n",
      "total_rec_prncp           9524 non-null float64\n",
      "total_rec_int             9524 non-null float64\n",
      "dtypes: float64(12), int64(4), object(8)\n",
      "memory usage: 1.8+ MB\n"
     ]
    }
   ],
   "source": [
    "df.info()"
   ]
  },
  {
   "cell_type": "code",
   "execution_count": 4,
   "metadata": {},
   "outputs": [
    {
     "data": {
      "text/plain": [
       "Current               8122\n",
       "Fully Paid             951\n",
       "Charged Off            218\n",
       "Late (31-120 days)     148\n",
       "In Grace Period         48\n",
       "Late (16-30 days)       21\n",
       "Default                 16\n",
       "Name: loan_status, dtype: int64"
      ]
     },
     "execution_count": 4,
     "metadata": {},
     "output_type": "execute_result"
    }
   ],
   "source": [
    "# The outcome variable: loan_status\n",
    "\n",
    "df[\"loan_status\"].value_counts()"
   ]
  },
  {
   "cell_type": "code",
   "execution_count": 5,
   "metadata": {},
   "outputs": [],
   "source": [
    "#Use the dropna command to delete the 4.76% of samples with severe data missing and complete the data set preprocessing.\n",
    "df = df.dropna(thresh= 5)"
   ]
  },
  {
   "cell_type": "markdown",
   "metadata": {},
   "source": [
    "## Descriptive statistical analysis"
   ]
  },
  {
   "cell_type": "code",
   "execution_count": 6,
   "metadata": {},
   "outputs": [],
   "source": [
    "pic_df = df.loc[:, df.columns.str.contains('num')]\n",
    "df_analysis = (df.dropna(thresh= 5))\\\n",
    "                     .assign(int_rate = lambda x: x['int_rate'].str.strip('%'))"
   ]
  },
  {
   "cell_type": "code",
   "execution_count": 7,
   "metadata": {},
   "outputs": [
    {
     "data": {
      "image/png": "[encoded data removed]",
      "text/plain": [
       "<Figure size 432x288 with 1 Axes>"
      ]
     },
     "metadata": {
      "needs_background": "light"
     },
     "output_type": "display_data"
    }
   ],
   "source": [
    "# Draw figures\n",
    "# Please describe those figures and try to do your own analysis\n",
    "plt.figure(1)\n",
    "sns.distplot(df_analysis.loan_amnt,fit = norm, kde = False)\n",
    "sns.despine(top = True)\n",
    "#ingonre the font warning. It doesn't matter.\n",
    "import warnings\n",
    "warnings.filterwarnings('ignore')"
   ]
  },
  {
   "cell_type": "markdown",
   "metadata": {},
   "source": [
    "Figure 1 shows loan amount's right skewed distribution. In the figure, most people's loan amount are on the left side. The mode of the loan amount is 10000,which is the most common number occurs."
   ]
  },
  {
   "cell_type": "code",
   "execution_count": 8,
   "metadata": {},
   "outputs": [
    {
     "data": {
      "text/plain": [
       "<matplotlib.axes._subplots.AxesSubplot at 0x113dd7f8ac8>"
      ]
     },
     "execution_count": 8,
     "metadata": {},
     "output_type": "execute_result"
    },
    {
     "data": {
      "image/png": "[encoded data removed]",
      "text/plain": [
       "<Figure size 360x360 with 1 Axes>"
      ]
     },
     "metadata": {},
     "output_type": "display_data"
    }
   ],
   "source": [
    "plt.figure(2)\n",
    "df_analysis.term.value_counts().plot.pie(autopct = '%.2f',figsize = (5,5))"
   ]
  },
  {
   "cell_type": "markdown",
   "metadata": {},
   "source": [
    "In the pie chart, 76.32% use a 36-month loan, while 23.68% choose a 60-month loan. It can be seen from the figure that the people who use the 36-month loan are much larger than those who use the 36-month loan, and the people who use the 36-month loan are three times the people who use the 60-month loan."
   ]
  },
  {
   "cell_type": "code",
   "execution_count": 9,
   "metadata": {},
   "outputs": [
    {
     "data": {
      "text/plain": [
       "<matplotlib.axes._subplots.AxesSubplot at 0x113dd86e8d0>"
      ]
     },
     "execution_count": 9,
     "metadata": {},
     "output_type": "execute_result"
    },
    {
     "data": {
      "image/png": "[encoded data removed]",
      "text/plain": [
       "<Figure size 360x360 with 1 Axes>"
      ]
     },
     "metadata": {},
     "output_type": "display_data"
    }
   ],
   "source": [
    "plt.figure(3)\n",
    "df_analysis.home_ownership.value_counts().plot.pie(autopct = '%.2f',figsize = (5,5))"
   ]
  },
  {
   "cell_type": "markdown",
   "metadata": {},
   "source": [
    "In the pie chart of home ownership,mortgage is 50.81%, which is the largest proportion of the home ownership. The second proportion is rent, which is 40.48%. The rest are own, other and none and their proportion are 8.69%,0.01% and 0.01%."
   ]
  },
  {
   "cell_type": "code",
   "execution_count": 10,
   "metadata": {
    "scrolled": true
   },
   "outputs": [
    {
     "data": {
      "image/png": "[encoded data removed]",
      "text/plain": [
       "<Figure size 432x288 with 1 Axes>"
      ]
     },
     "metadata": {
      "needs_background": "light"
     },
     "output_type": "display_data"
    }
   ],
   "source": [
    "plt.figure(4)\n",
    "sns.countplot(y = df_analysis.purpose)\n",
    "sns.despine(top = True)"
   ]
  },
  {
   "cell_type": "markdown",
   "metadata": {},
   "source": [
    "By using the countplot, we can see that the debt consolidation is the most common purpose,that is ,more than 5000 people use loan for debt consolidation. Credit card is the second most common purpose for loan and over 2000 people use loan for credit card. Also, home improvement is the third, other is the fourth and major purchase is the fifth and so on. In a word, most of the people use loan for debt consolidation and the total number of this purpose is much higher than total number of other's purpose. "
   ]
  },
  {
   "cell_type": "code",
   "execution_count": 11,
   "metadata": {
    "scrolled": true
   },
   "outputs": [
    {
     "data": {
      "image/png": "[encoded data removed]",
      "text/plain": [
       "<Figure size 432x288 with 1 Axes>"
      ]
     },
     "metadata": {
      "needs_background": "light"
     },
     "output_type": "display_data"
    }
   ],
   "source": [
    "plt.figure(7)\n",
    "sns.countplot(y = df_analysis.loan_status)\n",
    "sns.despine(top = True)\n",
    "plt.show()"
   ]
  },
  {
   "cell_type": "markdown",
   "metadata": {},
   "source": [
    "In the good loan status, over 8000 people have current status and about 1000 people have fully paid in the status. In the bad loan status, there are late payment, charged off, in grace period and default. As we can see from the chart, the total number of people does not exceed 800. In conclusion, most of the people can pay in time and only a small proportion of people have bad loan status."
   ]
  },
  {
   "cell_type": "code",
   "execution_count": 12,
   "metadata": {},
   "outputs": [
    {
     "name": "stdout",
     "output_type": "stream",
     "text": [
      "                    loan_amnt    out_prncp  total_rec_prncp  total_rec_int  \\\n",
      "loan_status                                                                  \n",
      "Charged Off           2862500         0.00        401936.64      270087.79   \n",
      "Current             117253100  94740945.77      22499429.03    11620861.86   \n",
      "Default                281225    234275.02         46949.98       35271.69   \n",
      "Fully Paid           12687950         0.00      12687923.42     1086953.44   \n",
      "In Grace Period        691575    535642.36        155932.65       90996.11   \n",
      "Late (16-30 days)      276675    218485.30         58189.69       40363.09   \n",
      "Late (31-120 days)    2348450   1926644.91        421805.08      311868.35   \n",
      "\n",
      "                    loan_amnt_pct  out_prncp_pct  \n",
      "loan_status                                       \n",
      "Charged Off              0.020986       0.000000  \n",
      "Current                  0.859618       0.970150  \n",
      "Default                  0.002062       0.002399  \n",
      "Fully Paid               0.093019       0.000000  \n",
      "In Grace Period          0.005070       0.005485  \n",
      "Late (16-30 days)        0.002028       0.002237  \n",
      "Late (31-120 days)       0.017217       0.019729  \n"
     ]
    }
   ],
   "source": [
    "# rough look into differences among loan_status groups\n",
    "groupd_status =  df_analysis.groupby(['loan_status'])\n",
    "pay_data = groupd_status.agg({'loan_amnt': 'sum','out_prncp': 'sum','total_rec_prncp': 'sum','total_rec_int': 'sum'}) \\\n",
    "                     .assign(loan_amnt_pct = lambda x : x['loan_amnt']/x['loan_amnt'].sum(),\n",
    "                              out_prncp_pct = lambda x : x['out_prncp']/x['out_prncp'].sum())\n",
    "\n",
    "print(pay_data)"
   ]
  },
  {
   "cell_type": "markdown",
   "metadata": {},
   "source": [
    "## Your turn\n",
    "\n",
    "Use machine learning models to uncover the relationship between features and loan status.\n",
    "\n",
    "Please note that, In this project, you have great flexbility in processing the variables, such as categorizing a feature into meaningful types.\n"
   ]
  },
  {
   "cell_type": "markdown",
   "metadata": {},
   "source": [
    "### 1. Data Cleaning\n",
    "<p>\n",
    "<span style=\"color:blue\">\n",
    "> Removed all empty columns<br>\n",
    "> Target variable 'loan_status' encoded to 0 or 1<br>\n",
    "</span>\n",
    "</p>"
   ]
  },
  {
   "cell_type": "markdown",
   "metadata": {},
   "source": [
    "We treat the values of 'current' and 'fully paid' in 'loan status' as the good results, noted by '0'."
   ]
  },
  {
   "cell_type": "code",
   "execution_count": 13,
   "metadata": {},
   "outputs": [],
   "source": [
    "df = df.dropna(thresh= 5)\n",
    "df0 = df.iloc[:,2:]    #delete the first two columns\n",
    "df0 = df0.dropna(subset=['loan_status'])    #delete the missing values of 'loan_status'\n",
    "di = {'Current':0,'Fully Paid':0,'Charged Off':1,'Late (31-120 days)':1,'In Grace Period':1,'Late (16-30 days)':1,'Default':1}\n",
    "df_withbooltarget = df0.replace({'loan_status':di})"
   ]
  },
  {
   "cell_type": "code",
   "execution_count": 14,
   "metadata": {
    "scrolled": true
   },
   "outputs": [
    {
     "name": "stdout",
     "output_type": "stream",
     "text": [
      "Current shape of dataset : (9524, 22)\n"
     ]
    },
    {
     "data": {
      "text/html": [
       "<div>\n",
       "<style scoped>\n",
       "    .dataframe tbody tr th:only-of-type {\n",
       "        vertical-align: middle;\n",
       "    }\n",
       "\n",
       "    .dataframe tbody tr th {\n",
       "        vertical-align: top;\n",
       "    }\n",
       "\n",
       "    .dataframe thead th {\n",
       "        text-align: right;\n",
       "    }\n",
       "</style>\n",
       "<table border=\"1\" class=\"dataframe\">\n",
       "  <thead>\n",
       "    <tr style=\"text-align: right;\">\n",
       "      <th></th>\n",
       "      <th>loan_amnt</th>\n",
       "      <th>funded_amnt</th>\n",
       "      <th>term</th>\n",
       "      <th>int_rate</th>\n",
       "      <th>installment</th>\n",
       "      <th>emp_length</th>\n",
       "      <th>home_ownership</th>\n",
       "      <th>annual_inc</th>\n",
       "      <th>loan_status</th>\n",
       "      <th>purpose</th>\n",
       "      <th>addr_state</th>\n",
       "      <th>dti</th>\n",
       "      <th>delinq_2yrs</th>\n",
       "      <th>earliest_cr_line</th>\n",
       "      <th>mths_since_last_delinq</th>\n",
       "      <th>open_acc</th>\n",
       "      <th>revol_bal</th>\n",
       "      <th>total_acc</th>\n",
       "      <th>out_prncp</th>\n",
       "      <th>total_pymnt</th>\n",
       "      <th>total_rec_prncp</th>\n",
       "      <th>total_rec_int</th>\n",
       "    </tr>\n",
       "  </thead>\n",
       "  <tbody>\n",
       "    <tr>\n",
       "      <th>0</th>\n",
       "      <td>18000</td>\n",
       "      <td>18000</td>\n",
       "      <td>60 months</td>\n",
       "      <td>10.16%</td>\n",
       "      <td>383.87</td>\n",
       "      <td>10+ years</td>\n",
       "      <td>MORTGAGE</td>\n",
       "      <td>72804.0</td>\n",
       "      <td>0</td>\n",
       "      <td>credit_card</td>\n",
       "      <td>MA</td>\n",
       "      <td>16.73</td>\n",
       "      <td>0.0</td>\n",
       "      <td>1995-12-27 02:06</td>\n",
       "      <td>NaN</td>\n",
       "      <td>21.0</td>\n",
       "      <td>8751.0</td>\n",
       "      <td>49.0</td>\n",
       "      <td>13263.18</td>\n",
       "      <td>7273.77</td>\n",
       "      <td>4736.82</td>\n",
       "      <td>2536.95</td>\n",
       "    </tr>\n",
       "    <tr>\n",
       "      <th>1</th>\n",
       "      <td>13200</td>\n",
       "      <td>13200</td>\n",
       "      <td>36 months</td>\n",
       "      <td>18.49%</td>\n",
       "      <td>480.47</td>\n",
       "      <td>2 years</td>\n",
       "      <td>RENT</td>\n",
       "      <td>110000.0</td>\n",
       "      <td>0</td>\n",
       "      <td>debt_consolidation</td>\n",
       "      <td>IL</td>\n",
       "      <td>17.02</td>\n",
       "      <td>0.0</td>\n",
       "      <td>2000-12-11 11:15</td>\n",
       "      <td>29.0</td>\n",
       "      <td>16.0</td>\n",
       "      <td>16062.0</td>\n",
       "      <td>36.0</td>\n",
       "      <td>10546.93</td>\n",
       "      <td>4324.23</td>\n",
       "      <td>2653.07</td>\n",
       "      <td>1671.16</td>\n",
       "    </tr>\n",
       "    <tr>\n",
       "      <th>2</th>\n",
       "      <td>15675</td>\n",
       "      <td>15675</td>\n",
       "      <td>36 months</td>\n",
       "      <td>8.90%</td>\n",
       "      <td>497.74</td>\n",
       "      <td>10+ years</td>\n",
       "      <td>MORTGAGE</td>\n",
       "      <td>100000.0</td>\n",
       "      <td>0</td>\n",
       "      <td>small_business</td>\n",
       "      <td>WA</td>\n",
       "      <td>9.10</td>\n",
       "      <td>0.0</td>\n",
       "      <td>1994-04-07 12:00</td>\n",
       "      <td>NaN</td>\n",
       "      <td>16.0</td>\n",
       "      <td>20650.0</td>\n",
       "      <td>45.0</td>\n",
       "      <td>15294.25</td>\n",
       "      <td>496.78</td>\n",
       "      <td>380.75</td>\n",
       "      <td>116.03</td>\n",
       "    </tr>\n",
       "  </tbody>\n",
       "</table>\n",
       "</div>"
      ],
      "text/plain": [
       "   loan_amnt  funded_amnt        term int_rate  installment emp_length  \\\n",
       "0      18000        18000   60 months   10.16%       383.87  10+ years   \n",
       "1      13200        13200   36 months   18.49%       480.47    2 years   \n",
       "2      15675        15675   36 months    8.90%       497.74  10+ years   \n",
       "\n",
       "  home_ownership  annual_inc  loan_status             purpose addr_state  \\\n",
       "0       MORTGAGE     72804.0            0         credit_card         MA   \n",
       "1           RENT    110000.0            0  debt_consolidation         IL   \n",
       "2       MORTGAGE    100000.0            0      small_business         WA   \n",
       "\n",
       "     dti  delinq_2yrs  earliest_cr_line  mths_since_last_delinq  open_acc  \\\n",
       "0  16.73          0.0  1995-12-27 02:06                     NaN      21.0   \n",
       "1  17.02          0.0  2000-12-11 11:15                    29.0      16.0   \n",
       "2   9.10          0.0  1994-04-07 12:00                     NaN      16.0   \n",
       "\n",
       "   revol_bal  total_acc  out_prncp  total_pymnt  total_rec_prncp  \\\n",
       "0     8751.0       49.0   13263.18      7273.77          4736.82   \n",
       "1    16062.0       36.0   10546.93      4324.23          2653.07   \n",
       "2    20650.0       45.0   15294.25       496.78           380.75   \n",
       "\n",
       "   total_rec_int  \n",
       "0        2536.95  \n",
       "1        1671.16  \n",
       "2         116.03  "
      ]
     },
     "execution_count": 14,
     "metadata": {},
     "output_type": "execute_result"
    }
   ],
   "source": [
    "df_withbooltarget['loan_status'].value_counts()\n",
    "print(\"Current shape of dataset :\",df_withbooltarget.shape)\n",
    "df_withbooltarget.head(3)"
   ]
  },
  {
   "cell_type": "markdown",
   "metadata": {},
   "source": [
    "Delete 4 more columns that which we consider will have little effect on the predicted outcomes."
   ]
  },
  {
   "cell_type": "code",
   "execution_count": 15,
   "metadata": {},
   "outputs": [
    {
     "name": "stdout",
     "output_type": "stream",
     "text": [
      "Current shape of dataset : (9524, 18)\n"
     ]
    }
   ],
   "source": [
    "df1 = df_withbooltarget\n",
    "del_col_names = ['purpose','mths_since_last_delinq','addr_state','earliest_cr_line']  #pending\n",
    "df1 = df1.drop(labels = del_col_names, axis = 1)\n",
    "print(\"Current shape of dataset :\",df1.shape)"
   ]
  },
  {
   "cell_type": "code",
   "execution_count": 16,
   "metadata": {},
   "outputs": [
    {
     "name": "stdout",
     "output_type": "stream",
     "text": [
      "Current shape of dataset : (9524, 18)\n"
     ]
    }
   ],
   "source": [
    "Final_data = df1\n",
    "Final_data[\"int_rate\"] = Final_data[\"int_rate\"].apply(lambda x:float(x[:-1]) ) #reomving % sign, conv to float  - int_rate column  convert to percentage\n",
    "Final_data = Final_data.reset_index(drop=True)    #reindex\n",
    "print(\"Current shape of dataset :\",Final_data.shape)"
   ]
  },
  {
   "cell_type": "markdown",
   "metadata": {},
   "source": [
    "### 2. Data Transformation and filling Missing values\n",
    "<p>\n",
    "<span style=\"color:blue\">\n",
    "> Encoded 'home_ownership' to numerical values. <br>\n",
    "> Changed 'emp_Length' to numerical values in the below cell.<br>\n",
    "> Transform 'term' into numerical form. <br>\n",
    "> Filled missing values with the mean of the column.\n",
    "</span>\n",
    "</p>"
   ]
  },
  {
   "cell_type": "code",
   "execution_count": 17,
   "metadata": {},
   "outputs": [
    {
     "data": {
      "text/html": [
       "<div>\n",
       "<style scoped>\n",
       "    .dataframe tbody tr th:only-of-type {\n",
       "        vertical-align: middle;\n",
       "    }\n",
       "\n",
       "    .dataframe tbody tr th {\n",
       "        vertical-align: top;\n",
       "    }\n",
       "\n",
       "    .dataframe thead th {\n",
       "        text-align: right;\n",
       "    }\n",
       "</style>\n",
       "<table border=\"1\" class=\"dataframe\">\n",
       "  <thead>\n",
       "    <tr style=\"text-align: right;\">\n",
       "      <th></th>\n",
       "      <th>loan_amnt</th>\n",
       "      <th>funded_amnt</th>\n",
       "      <th>term</th>\n",
       "      <th>int_rate</th>\n",
       "      <th>installment</th>\n",
       "      <th>emp_length</th>\n",
       "      <th>home_ownership</th>\n",
       "      <th>annual_inc</th>\n",
       "      <th>loan_status</th>\n",
       "      <th>dti</th>\n",
       "      <th>delinq_2yrs</th>\n",
       "      <th>open_acc</th>\n",
       "      <th>revol_bal</th>\n",
       "      <th>total_acc</th>\n",
       "      <th>out_prncp</th>\n",
       "      <th>total_pymnt</th>\n",
       "      <th>total_rec_prncp</th>\n",
       "      <th>total_rec_int</th>\n",
       "    </tr>\n",
       "  </thead>\n",
       "  <tbody>\n",
       "    <tr>\n",
       "      <th>0</th>\n",
       "      <td>18000</td>\n",
       "      <td>18000</td>\n",
       "      <td>60</td>\n",
       "      <td>10.16</td>\n",
       "      <td>383.87</td>\n",
       "      <td>10.0</td>\n",
       "      <td>6</td>\n",
       "      <td>72804.0</td>\n",
       "      <td>0</td>\n",
       "      <td>16.73</td>\n",
       "      <td>0.0</td>\n",
       "      <td>21.0</td>\n",
       "      <td>8751.0</td>\n",
       "      <td>49.0</td>\n",
       "      <td>13263.18</td>\n",
       "      <td>7273.77</td>\n",
       "      <td>4736.82</td>\n",
       "      <td>2536.95</td>\n",
       "    </tr>\n",
       "    <tr>\n",
       "      <th>1</th>\n",
       "      <td>13200</td>\n",
       "      <td>13200</td>\n",
       "      <td>36</td>\n",
       "      <td>18.49</td>\n",
       "      <td>480.47</td>\n",
       "      <td>2.0</td>\n",
       "      <td>5</td>\n",
       "      <td>110000.0</td>\n",
       "      <td>0</td>\n",
       "      <td>17.02</td>\n",
       "      <td>0.0</td>\n",
       "      <td>16.0</td>\n",
       "      <td>16062.0</td>\n",
       "      <td>36.0</td>\n",
       "      <td>10546.93</td>\n",
       "      <td>4324.23</td>\n",
       "      <td>2653.07</td>\n",
       "      <td>1671.16</td>\n",
       "    </tr>\n",
       "    <tr>\n",
       "      <th>2</th>\n",
       "      <td>15675</td>\n",
       "      <td>15675</td>\n",
       "      <td>36</td>\n",
       "      <td>8.90</td>\n",
       "      <td>497.74</td>\n",
       "      <td>10.0</td>\n",
       "      <td>6</td>\n",
       "      <td>100000.0</td>\n",
       "      <td>0</td>\n",
       "      <td>9.10</td>\n",
       "      <td>0.0</td>\n",
       "      <td>16.0</td>\n",
       "      <td>20650.0</td>\n",
       "      <td>45.0</td>\n",
       "      <td>15294.25</td>\n",
       "      <td>496.78</td>\n",
       "      <td>380.75</td>\n",
       "      <td>116.03</td>\n",
       "    </tr>\n",
       "    <tr>\n",
       "      <th>3</th>\n",
       "      <td>21600</td>\n",
       "      <td>21600</td>\n",
       "      <td>36</td>\n",
       "      <td>7.90</td>\n",
       "      <td>675.87</td>\n",
       "      <td>10.0</td>\n",
       "      <td>6</td>\n",
       "      <td>95000.0</td>\n",
       "      <td>0</td>\n",
       "      <td>3.42</td>\n",
       "      <td>0.0</td>\n",
       "      <td>9.0</td>\n",
       "      <td>416.0</td>\n",
       "      <td>24.0</td>\n",
       "      <td>0.00</td>\n",
       "      <td>23521.69</td>\n",
       "      <td>21600.00</td>\n",
       "      <td>1921.69</td>\n",
       "    </tr>\n",
       "    <tr>\n",
       "      <th>4</th>\n",
       "      <td>16500</td>\n",
       "      <td>16500</td>\n",
       "      <td>60</td>\n",
       "      <td>7.90</td>\n",
       "      <td>333.78</td>\n",
       "      <td>2.0</td>\n",
       "      <td>6</td>\n",
       "      <td>42000.0</td>\n",
       "      <td>1</td>\n",
       "      <td>10.43</td>\n",
       "      <td>0.0</td>\n",
       "      <td>9.0</td>\n",
       "      <td>2229.0</td>\n",
       "      <td>17.0</td>\n",
       "      <td>12966.64</td>\n",
       "      <td>5000.85</td>\n",
       "      <td>3533.36</td>\n",
       "      <td>1467.49</td>\n",
       "    </tr>\n",
       "  </tbody>\n",
       "</table>\n",
       "</div>"
      ],
      "text/plain": [
       "   loan_amnt  funded_amnt  term  int_rate  installment  emp_length  \\\n",
       "0      18000        18000    60     10.16       383.87        10.0   \n",
       "1      13200        13200    36     18.49       480.47         2.0   \n",
       "2      15675        15675    36      8.90       497.74        10.0   \n",
       "3      21600        21600    36      7.90       675.87        10.0   \n",
       "4      16500        16500    60      7.90       333.78         2.0   \n",
       "\n",
       "   home_ownership  annual_inc  loan_status    dti  delinq_2yrs  open_acc  \\\n",
       "0               6     72804.0            0  16.73          0.0      21.0   \n",
       "1               5    110000.0            0  17.02          0.0      16.0   \n",
       "2               6    100000.0            0   9.10          0.0      16.0   \n",
       "3               6     95000.0            0   3.42          0.0       9.0   \n",
       "4               6     42000.0            1  10.43          0.0       9.0   \n",
       "\n",
       "   revol_bal  total_acc  out_prncp  total_pymnt  total_rec_prncp  \\\n",
       "0     8751.0       49.0   13263.18      7273.77          4736.82   \n",
       "1    16062.0       36.0   10546.93      4324.23          2653.07   \n",
       "2    20650.0       45.0   15294.25       496.78           380.75   \n",
       "3      416.0       24.0       0.00     23521.69         21600.00   \n",
       "4     2229.0       17.0   12966.64      5000.85          3533.36   \n",
       "\n",
       "   total_rec_int  \n",
       "0        2536.95  \n",
       "1        1671.16  \n",
       "2         116.03  \n",
       "3        1921.69  \n",
       "4        1467.49  "
      ]
     },
     "execution_count": 17,
     "metadata": {},
     "output_type": "execute_result"
    }
   ],
   "source": [
    "Final_data[\"home_ownership\"] = Final_data[\"home_ownership\"].map({\"MORTGAGE\":6,\"RENT\":5,\"OWN\":4,\"OTHER\":3,\"NONE\":2,\"ANY\":1})    #home-ownership\n",
    "Final_data[\"emp_length\"] = Final_data[\"emp_length\"].replace({'years':'','year':'',' ':'','<':'','\\+':'','n/a':'0'}, regex = True)    #convert the time length\n",
    "Final_data[\"emp_length\"] = Final_data[\"emp_length\"].apply(lambda x:float(x))    #convert string to integer\n",
    "Final_data['term'] = Final_data['term'].apply(lambda x: np.int8(x.split()[0]))\n",
    "#print(\"Current shape of dataset :\",Final_data.shape)\n",
    "Final_data.head()\n",
    "#Final_data.info()"
   ]
  },
  {
   "cell_type": "code",
   "execution_count": 18,
   "metadata": {},
   "outputs": [
    {
     "name": "stdout",
     "output_type": "stream",
     "text": [
      "<class 'pandas.core.frame.DataFrame'>\n",
      "RangeIndex: 9524 entries, 0 to 9523\n",
      "Data columns (total 18 columns):\n",
      "loan_amnt          9524 non-null int64\n",
      "funded_amnt        9524 non-null int64\n",
      "int_rate           9524 non-null float64\n",
      "installment        9524 non-null float64\n",
      "emp_length         9524 non-null int64\n",
      "home_ownership     9524 non-null int64\n",
      "annual_inc         9524 non-null float64\n",
      "dti                9524 non-null float64\n",
      "delinq_2yrs        9524 non-null float64\n",
      "open_acc           9524 non-null float64\n",
      "revol_bal          9524 non-null float64\n",
      "total_acc          9524 non-null float64\n",
      "out_prncp          9524 non-null float64\n",
      "total_pymnt        9524 non-null float64\n",
      "total_rec_prncp    9524 non-null float64\n",
      "total_rec_int      9524 non-null float64\n",
      "term               9524 non-null int64\n",
      "loan_status        9524 non-null int64\n",
      "dtypes: float64(12), int64(6)\n",
      "memory usage: 1.3 MB\n"
     ]
    }
   ],
   "source": [
    "Final_data.fillna(Final_data.mean(),inplace = True)\n",
    "Final_data[\"emp_length\"] = Final_data[\"emp_length\"].apply(lambda x:int(x))\n",
    "#rearrange the columns of the final data\n",
    "Final_data=Final_data[['loan_amnt','funded_amnt','int_rate','installment','emp_length','home_ownership','annual_inc','dti',\n",
    "                       'delinq_2yrs','open_acc','revol_bal','total_acc','out_prncp','total_pymnt','total_rec_prncp',\n",
    "                       'total_rec_int','term','loan_status']]\n",
    "Final_data.info()\n",
    "#Below are the final selected variables"
   ]
  },
  {
   "cell_type": "markdown",
   "metadata": {},
   "source": [
    "### 3. Feature scaling and spliting\n",
    "<p>\n",
    "<span style=\"color:blue\">\n",
    "> Splited the dataset into 2 by 'term': 36 months and 60 months. <br>\n",
    "> Scaled all the features here using standard scaler. <br>\n",
    "> Choose different features for dataset36 and dataset60 firstly by correlation matrix and common sense.\n",
    "</span>\n",
    "</p>"
   ]
  },
  {
   "cell_type": "code",
   "execution_count": 19,
   "metadata": {},
   "outputs": [
    {
     "data": {
      "text/plain": [
       "0    9073\n",
       "1     451\n",
       "Name: loan_status, dtype: int64"
      ]
     },
     "execution_count": 19,
     "metadata": {},
     "output_type": "execute_result"
    }
   ],
   "source": [
    "scl = preprocessing.StandardScaler() #instance of preprocessing   standarlize the data\n",
    "fields = Final_data.columns.values[:-2]    \n",
    "data_clean = pd.DataFrame(scl.fit_transform(Final_data[fields]), columns = fields)    #construct data_clean\n",
    "data_clean['term'] = Final_data['term']\n",
    "data_clean['loan_status'] = Final_data['loan_status']\n",
    "data_clean['loan_status'].value_counts()    \n",
    "#there are 9073 '0's in total and 451 '1's"
   ]
  },
  {
   "cell_type": "code",
   "execution_count": 20,
   "metadata": {},
   "outputs": [],
   "source": [
    "data_with36 = data_clean[data_clean['term']==36]\n",
    "data_with60 = data_clean[data_clean['term']==60]\n",
    "data_with36=data_with36.drop('term',axis=1)\n",
    "data_with60=data_with60.drop('term',axis=1)"
   ]
  },
  {
   "cell_type": "markdown",
   "metadata": {},
   "source": [
    "dataset of term=36 months"
   ]
  },
  {
   "cell_type": "code",
   "execution_count": 21,
   "metadata": {},
   "outputs": [
    {
     "data": {
      "text/plain": [
       "(7269, 17)"
      ]
     },
     "execution_count": 21,
     "metadata": {},
     "output_type": "execute_result"
    }
   ],
   "source": [
    "data_with36.shape"
   ]
  },
  {
   "cell_type": "markdown",
   "metadata": {},
   "source": [
    "dataset of term=60 months"
   ]
  },
  {
   "cell_type": "code",
   "execution_count": 22,
   "metadata": {},
   "outputs": [
    {
     "data": {
      "text/plain": [
       "(2255, 17)"
      ]
     },
     "execution_count": 22,
     "metadata": {},
     "output_type": "execute_result"
    }
   ],
   "source": [
    "data_with60.shape"
   ]
  },
  {
   "cell_type": "markdown",
   "metadata": {},
   "source": [
    "##### Now we try to select features first depending on the correlation matrix of dataset36."
   ]
  },
  {
   "cell_type": "code",
   "execution_count": 23,
   "metadata": {},
   "outputs": [
    {
     "data": {
      "text/html": [
       "<div>\n",
       "<style scoped>\n",
       "    .dataframe tbody tr th:only-of-type {\n",
       "        vertical-align: middle;\n",
       "    }\n",
       "\n",
       "    .dataframe tbody tr th {\n",
       "        vertical-align: top;\n",
       "    }\n",
       "\n",
       "    .dataframe thead th {\n",
       "        text-align: right;\n",
       "    }\n",
       "</style>\n",
       "<table border=\"1\" class=\"dataframe\">\n",
       "  <thead>\n",
       "    <tr style=\"text-align: right;\">\n",
       "      <th></th>\n",
       "      <th>loan_amnt</th>\n",
       "      <th>funded_amnt</th>\n",
       "      <th>int_rate</th>\n",
       "      <th>installment</th>\n",
       "      <th>emp_length</th>\n",
       "      <th>home_ownership</th>\n",
       "      <th>annual_inc</th>\n",
       "      <th>dti</th>\n",
       "      <th>delinq_2yrs</th>\n",
       "      <th>open_acc</th>\n",
       "      <th>revol_bal</th>\n",
       "      <th>total_acc</th>\n",
       "      <th>out_prncp</th>\n",
       "      <th>total_pymnt</th>\n",
       "      <th>total_rec_prncp</th>\n",
       "      <th>total_rec_int</th>\n",
       "      <th>loan_status</th>\n",
       "    </tr>\n",
       "  </thead>\n",
       "  <tbody>\n",
       "    <tr>\n",
       "      <th>loan_amnt</th>\n",
       "      <td>1.000000</td>\n",
       "      <td>0.999908</td>\n",
       "      <td>-0.075547</td>\n",
       "      <td>0.993871</td>\n",
       "      <td>0.105579</td>\n",
       "      <td>0.141255</td>\n",
       "      <td>0.425453</td>\n",
       "      <td>0.003618</td>\n",
       "      <td>0.007695</td>\n",
       "      <td>0.194651</td>\n",
       "      <td>0.414496</td>\n",
       "      <td>0.219570</td>\n",
       "      <td>0.787701</td>\n",
       "      <td>0.530830</td>\n",
       "      <td>0.465082</td>\n",
       "      <td>0.611507</td>\n",
       "      <td>-0.028027</td>\n",
       "    </tr>\n",
       "    <tr>\n",
       "      <th>funded_amnt</th>\n",
       "      <td>0.999908</td>\n",
       "      <td>1.000000</td>\n",
       "      <td>-0.075391</td>\n",
       "      <td>0.993985</td>\n",
       "      <td>0.105789</td>\n",
       "      <td>0.141134</td>\n",
       "      <td>0.425184</td>\n",
       "      <td>0.003548</td>\n",
       "      <td>0.007752</td>\n",
       "      <td>0.194794</td>\n",
       "      <td>0.414320</td>\n",
       "      <td>0.219762</td>\n",
       "      <td>0.787862</td>\n",
       "      <td>0.530736</td>\n",
       "      <td>0.464980</td>\n",
       "      <td>0.611486</td>\n",
       "      <td>-0.027999</td>\n",
       "    </tr>\n",
       "    <tr>\n",
       "      <th>int_rate</th>\n",
       "      <td>-0.075547</td>\n",
       "      <td>-0.075391</td>\n",
       "      <td>1.000000</td>\n",
       "      <td>0.017090</td>\n",
       "      <td>-0.023315</td>\n",
       "      <td>-0.145625</td>\n",
       "      <td>-0.094937</td>\n",
       "      <td>0.130530</td>\n",
       "      <td>0.121485</td>\n",
       "      <td>-0.034644</td>\n",
       "      <td>-0.089880</td>\n",
       "      <td>-0.102555</td>\n",
       "      <td>-0.043668</td>\n",
       "      <td>-0.023028</td>\n",
       "      <td>-0.085003</td>\n",
       "      <td>0.252568</td>\n",
       "      <td>0.078431</td>\n",
       "    </tr>\n",
       "    <tr>\n",
       "      <th>installment</th>\n",
       "      <td>0.993871</td>\n",
       "      <td>0.993985</td>\n",
       "      <td>0.017090</td>\n",
       "      <td>1.000000</td>\n",
       "      <td>0.103349</td>\n",
       "      <td>0.126470</td>\n",
       "      <td>0.415477</td>\n",
       "      <td>0.016171</td>\n",
       "      <td>0.019993</td>\n",
       "      <td>0.193377</td>\n",
       "      <td>0.403310</td>\n",
       "      <td>0.212333</td>\n",
       "      <td>0.783308</td>\n",
       "      <td>0.531959</td>\n",
       "      <td>0.457825</td>\n",
       "      <td>0.648295</td>\n",
       "      <td>-0.020205</td>\n",
       "    </tr>\n",
       "    <tr>\n",
       "      <th>emp_length</th>\n",
       "      <td>0.105579</td>\n",
       "      <td>0.105789</td>\n",
       "      <td>-0.023315</td>\n",
       "      <td>0.103349</td>\n",
       "      <td>1.000000</td>\n",
       "      <td>0.143576</td>\n",
       "      <td>0.085950</td>\n",
       "      <td>0.034992</td>\n",
       "      <td>0.061191</td>\n",
       "      <td>0.036771</td>\n",
       "      <td>0.138015</td>\n",
       "      <td>0.121491</td>\n",
       "      <td>0.095159</td>\n",
       "      <td>0.036519</td>\n",
       "      <td>0.033526</td>\n",
       "      <td>0.035675</td>\n",
       "      <td>-0.024667</td>\n",
       "    </tr>\n",
       "    <tr>\n",
       "      <th>home_ownership</th>\n",
       "      <td>0.141255</td>\n",
       "      <td>0.141134</td>\n",
       "      <td>-0.145625</td>\n",
       "      <td>0.126470</td>\n",
       "      <td>0.143576</td>\n",
       "      <td>1.000000</td>\n",
       "      <td>0.192031</td>\n",
       "      <td>-0.027366</td>\n",
       "      <td>0.060842</td>\n",
       "      <td>0.121199</td>\n",
       "      <td>0.145013</td>\n",
       "      <td>0.196279</td>\n",
       "      <td>0.128493</td>\n",
       "      <td>0.049270</td>\n",
       "      <td>0.051544</td>\n",
       "      <td>0.022009</td>\n",
       "      <td>-0.039408</td>\n",
       "    </tr>\n",
       "    <tr>\n",
       "      <th>annual_inc</th>\n",
       "      <td>0.425453</td>\n",
       "      <td>0.425184</td>\n",
       "      <td>-0.094937</td>\n",
       "      <td>0.415477</td>\n",
       "      <td>0.085950</td>\n",
       "      <td>0.192031</td>\n",
       "      <td>1.000000</td>\n",
       "      <td>-0.236054</td>\n",
       "      <td>0.086465</td>\n",
       "      <td>0.181291</td>\n",
       "      <td>0.414846</td>\n",
       "      <td>0.258977</td>\n",
       "      <td>0.330186</td>\n",
       "      <td>0.235449</td>\n",
       "      <td>0.220081</td>\n",
       "      <td>0.212715</td>\n",
       "      <td>-0.057838</td>\n",
       "    </tr>\n",
       "    <tr>\n",
       "      <th>dti</th>\n",
       "      <td>0.003618</td>\n",
       "      <td>0.003548</td>\n",
       "      <td>0.130530</td>\n",
       "      <td>0.016171</td>\n",
       "      <td>0.034992</td>\n",
       "      <td>-0.027366</td>\n",
       "      <td>-0.236054</td>\n",
       "      <td>1.000000</td>\n",
       "      <td>-0.009700</td>\n",
       "      <td>0.282081</td>\n",
       "      <td>0.145762</td>\n",
       "      <td>0.211635</td>\n",
       "      <td>0.034711</td>\n",
       "      <td>-0.039899</td>\n",
       "      <td>-0.056016</td>\n",
       "      <td>0.044534</td>\n",
       "      <td>0.042768</td>\n",
       "    </tr>\n",
       "    <tr>\n",
       "      <th>delinq_2yrs</th>\n",
       "      <td>0.007695</td>\n",
       "      <td>0.007752</td>\n",
       "      <td>0.121485</td>\n",
       "      <td>0.019993</td>\n",
       "      <td>0.061191</td>\n",
       "      <td>0.060842</td>\n",
       "      <td>0.086465</td>\n",
       "      <td>-0.009700</td>\n",
       "      <td>1.000000</td>\n",
       "      <td>0.054125</td>\n",
       "      <td>-0.017622</td>\n",
       "      <td>0.148401</td>\n",
       "      <td>0.016804</td>\n",
       "      <td>-0.010529</td>\n",
       "      <td>-0.017199</td>\n",
       "      <td>0.022373</td>\n",
       "      <td>0.015372</td>\n",
       "    </tr>\n",
       "    <tr>\n",
       "      <th>open_acc</th>\n",
       "      <td>0.194651</td>\n",
       "      <td>0.194794</td>\n",
       "      <td>-0.034644</td>\n",
       "      <td>0.193377</td>\n",
       "      <td>0.036771</td>\n",
       "      <td>0.121199</td>\n",
       "      <td>0.181291</td>\n",
       "      <td>0.282081</td>\n",
       "      <td>0.054125</td>\n",
       "      <td>1.000000</td>\n",
       "      <td>0.256797</td>\n",
       "      <td>0.668856</td>\n",
       "      <td>0.185699</td>\n",
       "      <td>0.060571</td>\n",
       "      <td>0.046948</td>\n",
       "      <td>0.096497</td>\n",
       "      <td>-0.035346</td>\n",
       "    </tr>\n",
       "    <tr>\n",
       "      <th>revol_bal</th>\n",
       "      <td>0.414496</td>\n",
       "      <td>0.414320</td>\n",
       "      <td>-0.089880</td>\n",
       "      <td>0.403310</td>\n",
       "      <td>0.138015</td>\n",
       "      <td>0.145013</td>\n",
       "      <td>0.414846</td>\n",
       "      <td>0.145762</td>\n",
       "      <td>-0.017622</td>\n",
       "      <td>0.256797</td>\n",
       "      <td>1.000000</td>\n",
       "      <td>0.256009</td>\n",
       "      <td>0.342490</td>\n",
       "      <td>0.203624</td>\n",
       "      <td>0.180818</td>\n",
       "      <td>0.225334</td>\n",
       "      <td>-0.034565</td>\n",
       "    </tr>\n",
       "    <tr>\n",
       "      <th>total_acc</th>\n",
       "      <td>0.219570</td>\n",
       "      <td>0.219762</td>\n",
       "      <td>-0.102555</td>\n",
       "      <td>0.212333</td>\n",
       "      <td>0.121491</td>\n",
       "      <td>0.196279</td>\n",
       "      <td>0.258977</td>\n",
       "      <td>0.211635</td>\n",
       "      <td>0.148401</td>\n",
       "      <td>0.668856</td>\n",
       "      <td>0.256009</td>\n",
       "      <td>1.000000</td>\n",
       "      <td>0.182447</td>\n",
       "      <td>0.099604</td>\n",
       "      <td>0.095024</td>\n",
       "      <td>0.081875</td>\n",
       "      <td>-0.045879</td>\n",
       "    </tr>\n",
       "    <tr>\n",
       "      <th>out_prncp</th>\n",
       "      <td>0.787701</td>\n",
       "      <td>0.787862</td>\n",
       "      <td>-0.043668</td>\n",
       "      <td>0.783308</td>\n",
       "      <td>0.095159</td>\n",
       "      <td>0.128493</td>\n",
       "      <td>0.330186</td>\n",
       "      <td>0.034711</td>\n",
       "      <td>0.016804</td>\n",
       "      <td>0.185699</td>\n",
       "      <td>0.342490</td>\n",
       "      <td>0.182447</td>\n",
       "      <td>1.000000</td>\n",
       "      <td>-0.052744</td>\n",
       "      <td>-0.131769</td>\n",
       "      <td>0.314449</td>\n",
       "      <td>-0.136026</td>\n",
       "    </tr>\n",
       "    <tr>\n",
       "      <th>total_pymnt</th>\n",
       "      <td>0.530830</td>\n",
       "      <td>0.530736</td>\n",
       "      <td>-0.023028</td>\n",
       "      <td>0.531959</td>\n",
       "      <td>0.036519</td>\n",
       "      <td>0.049270</td>\n",
       "      <td>0.235449</td>\n",
       "      <td>-0.039899</td>\n",
       "      <td>-0.010529</td>\n",
       "      <td>0.060571</td>\n",
       "      <td>0.203624</td>\n",
       "      <td>0.099604</td>\n",
       "      <td>-0.052744</td>\n",
       "      <td>1.000000</td>\n",
       "      <td>0.985542</td>\n",
       "      <td>0.681089</td>\n",
       "      <td>-0.058747</td>\n",
       "    </tr>\n",
       "    <tr>\n",
       "      <th>total_rec_prncp</th>\n",
       "      <td>0.465082</td>\n",
       "      <td>0.464980</td>\n",
       "      <td>-0.085003</td>\n",
       "      <td>0.457825</td>\n",
       "      <td>0.033526</td>\n",
       "      <td>0.051544</td>\n",
       "      <td>0.220081</td>\n",
       "      <td>-0.056016</td>\n",
       "      <td>-0.017199</td>\n",
       "      <td>0.046948</td>\n",
       "      <td>0.180818</td>\n",
       "      <td>0.095024</td>\n",
       "      <td>-0.131769</td>\n",
       "      <td>0.985542</td>\n",
       "      <td>1.000000</td>\n",
       "      <td>0.547485</td>\n",
       "      <td>-0.070060</td>\n",
       "    </tr>\n",
       "    <tr>\n",
       "      <th>total_rec_int</th>\n",
       "      <td>0.611507</td>\n",
       "      <td>0.611486</td>\n",
       "      <td>0.252568</td>\n",
       "      <td>0.648295</td>\n",
       "      <td>0.035675</td>\n",
       "      <td>0.022009</td>\n",
       "      <td>0.212715</td>\n",
       "      <td>0.044534</td>\n",
       "      <td>0.022373</td>\n",
       "      <td>0.096497</td>\n",
       "      <td>0.225334</td>\n",
       "      <td>0.081875</td>\n",
       "      <td>0.314449</td>\n",
       "      <td>0.681089</td>\n",
       "      <td>0.547485</td>\n",
       "      <td>1.000000</td>\n",
       "      <td>-0.004281</td>\n",
       "    </tr>\n",
       "    <tr>\n",
       "      <th>loan_status</th>\n",
       "      <td>-0.028027</td>\n",
       "      <td>-0.027999</td>\n",
       "      <td>0.078431</td>\n",
       "      <td>-0.020205</td>\n",
       "      <td>-0.024667</td>\n",
       "      <td>-0.039408</td>\n",
       "      <td>-0.057838</td>\n",
       "      <td>0.042768</td>\n",
       "      <td>0.015372</td>\n",
       "      <td>-0.035346</td>\n",
       "      <td>-0.034565</td>\n",
       "      <td>-0.045879</td>\n",
       "      <td>-0.136026</td>\n",
       "      <td>-0.058747</td>\n",
       "      <td>-0.070060</td>\n",
       "      <td>-0.004281</td>\n",
       "      <td>1.000000</td>\n",
       "    </tr>\n",
       "  </tbody>\n",
       "</table>\n",
       "</div>"
      ],
      "text/plain": [
       "                 loan_amnt  funded_amnt  int_rate  installment  emp_length  \\\n",
       "loan_amnt         1.000000     0.999908 -0.075547     0.993871    0.105579   \n",
       "funded_amnt       0.999908     1.000000 -0.075391     0.993985    0.105789   \n",
       "int_rate         -0.075547    -0.075391  1.000000     0.017090   -0.023315   \n",
       "installment       0.993871     0.993985  0.017090     1.000000    0.103349   \n",
       "emp_length        0.105579     0.105789 -0.023315     0.103349    1.000000   \n",
       "home_ownership    0.141255     0.141134 -0.145625     0.126470    0.143576   \n",
       "annual_inc        0.425453     0.425184 -0.094937     0.415477    0.085950   \n",
       "dti               0.003618     0.003548  0.130530     0.016171    0.034992   \n",
       "delinq_2yrs       0.007695     0.007752  0.121485     0.019993    0.061191   \n",
       "open_acc          0.194651     0.194794 -0.034644     0.193377    0.036771   \n",
       "revol_bal         0.414496     0.414320 -0.089880     0.403310    0.138015   \n",
       "total_acc         0.219570     0.219762 -0.102555     0.212333    0.121491   \n",
       "out_prncp         0.787701     0.787862 -0.043668     0.783308    0.095159   \n",
       "total_pymnt       0.530830     0.530736 -0.023028     0.531959    0.036519   \n",
       "total_rec_prncp   0.465082     0.464980 -0.085003     0.457825    0.033526   \n",
       "total_rec_int     0.611507     0.611486  0.252568     0.648295    0.035675   \n",
       "loan_status      -0.028027    -0.027999  0.078431    -0.020205   -0.024667   \n",
       "\n",
       "                 home_ownership  annual_inc       dti  delinq_2yrs  open_acc  \\\n",
       "loan_amnt              0.141255    0.425453  0.003618     0.007695  0.194651   \n",
       "funded_amnt            0.141134    0.425184  0.003548     0.007752  0.194794   \n",
       "int_rate              -0.145625   -0.094937  0.130530     0.121485 -0.034644   \n",
       "installment            0.126470    0.415477  0.016171     0.019993  0.193377   \n",
       "emp_length             0.143576    0.085950  0.034992     0.061191  0.036771   \n",
       "home_ownership         1.000000    0.192031 -0.027366     0.060842  0.121199   \n",
       "annual_inc             0.192031    1.000000 -0.236054     0.086465  0.181291   \n",
       "dti                   -0.027366   -0.236054  1.000000    -0.009700  0.282081   \n",
       "delinq_2yrs            0.060842    0.086465 -0.009700     1.000000  0.054125   \n",
       "open_acc               0.121199    0.181291  0.282081     0.054125  1.000000   \n",
       "revol_bal              0.145013    0.414846  0.145762    -0.017622  0.256797   \n",
       "total_acc              0.196279    0.258977  0.211635     0.148401  0.668856   \n",
       "out_prncp              0.128493    0.330186  0.034711     0.016804  0.185699   \n",
       "total_pymnt            0.049270    0.235449 -0.039899    -0.010529  0.060571   \n",
       "total_rec_prncp        0.051544    0.220081 -0.056016    -0.017199  0.046948   \n",
       "total_rec_int          0.022009    0.212715  0.044534     0.022373  0.096497   \n",
       "loan_status           -0.039408   -0.057838  0.042768     0.015372 -0.035346   \n",
       "\n",
       "                 revol_bal  total_acc  out_prncp  total_pymnt  \\\n",
       "loan_amnt         0.414496   0.219570   0.787701     0.530830   \n",
       "funded_amnt       0.414320   0.219762   0.787862     0.530736   \n",
       "int_rate         -0.089880  -0.102555  -0.043668    -0.023028   \n",
       "installment       0.403310   0.212333   0.783308     0.531959   \n",
       "emp_length        0.138015   0.121491   0.095159     0.036519   \n",
       "home_ownership    0.145013   0.196279   0.128493     0.049270   \n",
       "annual_inc        0.414846   0.258977   0.330186     0.235449   \n",
       "dti               0.145762   0.211635   0.034711    -0.039899   \n",
       "delinq_2yrs      -0.017622   0.148401   0.016804    -0.010529   \n",
       "open_acc          0.256797   0.668856   0.185699     0.060571   \n",
       "revol_bal         1.000000   0.256009   0.342490     0.203624   \n",
       "total_acc         0.256009   1.000000   0.182447     0.099604   \n",
       "out_prncp         0.342490   0.182447   1.000000    -0.052744   \n",
       "total_pymnt       0.203624   0.099604  -0.052744     1.000000   \n",
       "total_rec_prncp   0.180818   0.095024  -0.131769     0.985542   \n",
       "total_rec_int     0.225334   0.081875   0.314449     0.681089   \n",
       "loan_status      -0.034565  -0.045879  -0.136026    -0.058747   \n",
       "\n",
       "                 total_rec_prncp  total_rec_int  loan_status  \n",
       "loan_amnt               0.465082       0.611507    -0.028027  \n",
       "funded_amnt             0.464980       0.611486    -0.027999  \n",
       "int_rate               -0.085003       0.252568     0.078431  \n",
       "installment             0.457825       0.648295    -0.020205  \n",
       "emp_length              0.033526       0.035675    -0.024667  \n",
       "home_ownership          0.051544       0.022009    -0.039408  \n",
       "annual_inc              0.220081       0.212715    -0.057838  \n",
       "dti                    -0.056016       0.044534     0.042768  \n",
       "delinq_2yrs            -0.017199       0.022373     0.015372  \n",
       "open_acc                0.046948       0.096497    -0.035346  \n",
       "revol_bal               0.180818       0.225334    -0.034565  \n",
       "total_acc               0.095024       0.081875    -0.045879  \n",
       "out_prncp              -0.131769       0.314449    -0.136026  \n",
       "total_pymnt             0.985542       0.681089    -0.058747  \n",
       "total_rec_prncp         1.000000       0.547485    -0.070060  \n",
       "total_rec_int           0.547485       1.000000    -0.004281  \n",
       "loan_status            -0.070060      -0.004281     1.000000  "
      ]
     },
     "execution_count": 23,
     "metadata": {},
     "output_type": "execute_result"
    }
   ],
   "source": [
    "data_with36.corr()"
   ]
  },
  {
   "cell_type": "markdown",
   "metadata": {},
   "source": [
    "Those correlation coefficients whose magnitude are below 0.5 are considered having little correlation. Accordingly we excluded part of the variables together with the consideration of common sense on the features' meanings. (for example, the number of someone's total accounts and the number of open accounts usually has close relationship)"
   ]
  },
  {
   "cell_type": "code",
   "execution_count": 24,
   "metadata": {},
   "outputs": [
    {
     "data": {
      "text/html": [
       "<div>\n",
       "<style scoped>\n",
       "    .dataframe tbody tr th:only-of-type {\n",
       "        vertical-align: middle;\n",
       "    }\n",
       "\n",
       "    .dataframe tbody tr th {\n",
       "        vertical-align: top;\n",
       "    }\n",
       "\n",
       "    .dataframe thead th {\n",
       "        text-align: right;\n",
       "    }\n",
       "</style>\n",
       "<table border=\"1\" class=\"dataframe\">\n",
       "  <thead>\n",
       "    <tr style=\"text-align: right;\">\n",
       "      <th></th>\n",
       "      <th>funded_amnt</th>\n",
       "      <th>int_rate</th>\n",
       "      <th>emp_length</th>\n",
       "      <th>home_ownership</th>\n",
       "      <th>annual_inc</th>\n",
       "      <th>dti</th>\n",
       "      <th>revol_bal</th>\n",
       "      <th>total_acc</th>\n",
       "      <th>out_prncp</th>\n",
       "      <th>total_rec_prncp</th>\n",
       "      <th>loan_status</th>\n",
       "    </tr>\n",
       "  </thead>\n",
       "  <tbody>\n",
       "    <tr>\n",
       "      <th>1</th>\n",
       "      <td>-0.137179</td>\n",
       "      <td>0.950839</td>\n",
       "      <td>-1.221940</td>\n",
       "      <td>-0.649447</td>\n",
       "      <td>0.845323</td>\n",
       "      <td>-0.016720</td>\n",
       "      <td>0.005205</td>\n",
       "      <td>1.054674</td>\n",
       "      <td>0.036828</td>\n",
       "      <td>-0.240652</td>\n",
       "      <td>0</td>\n",
       "    </tr>\n",
       "    <tr>\n",
       "      <th>2</th>\n",
       "      <td>0.166047</td>\n",
       "      <td>-1.213982</td>\n",
       "      <td>1.150933</td>\n",
       "      <td>0.894570</td>\n",
       "      <td>0.624867</td>\n",
       "      <td>-1.060033</td>\n",
       "      <td>0.307508</td>\n",
       "      <td>1.881339</td>\n",
       "      <td>0.633009</td>\n",
       "      <td>-0.713929</td>\n",
       "      <td>0</td>\n",
       "    </tr>\n",
       "    <tr>\n",
       "      <th>3</th>\n",
       "      <td>0.891952</td>\n",
       "      <td>-1.439720</td>\n",
       "      <td>1.150933</td>\n",
       "      <td>0.894570</td>\n",
       "      <td>0.514639</td>\n",
       "      <td>-1.808268</td>\n",
       "      <td>-1.025707</td>\n",
       "      <td>-0.047546</td>\n",
       "      <td>-1.287684</td>\n",
       "      <td>3.705598</td>\n",
       "      <td>0</td>\n",
       "    </tr>\n",
       "    <tr>\n",
       "      <th>5</th>\n",
       "      <td>0.818442</td>\n",
       "      <td>-1.728663</td>\n",
       "      <td>1.150933</td>\n",
       "      <td>0.894570</td>\n",
       "      <td>1.096467</td>\n",
       "      <td>0.313926</td>\n",
       "      <td>1.629982</td>\n",
       "      <td>1.146525</td>\n",
       "      <td>0.598392</td>\n",
       "      <td>0.452569</td>\n",
       "      <td>0</td>\n",
       "    </tr>\n",
       "    <tr>\n",
       "      <th>6</th>\n",
       "      <td>-1.080549</td>\n",
       "      <td>-0.137215</td>\n",
       "      <td>-0.925331</td>\n",
       "      <td>-0.649447</td>\n",
       "      <td>-0.367187</td>\n",
       "      <td>0.469369</td>\n",
       "      <td>-0.428086</td>\n",
       "      <td>0.044306</td>\n",
       "      <td>-1.287684</td>\n",
       "      <td>0.352304</td>\n",
       "      <td>0</td>\n",
       "    </tr>\n",
       "  </tbody>\n",
       "</table>\n",
       "</div>"
      ],
      "text/plain": [
       "   funded_amnt  int_rate  emp_length  home_ownership  annual_inc       dti  \\\n",
       "1    -0.137179  0.950839   -1.221940       -0.649447    0.845323 -0.016720   \n",
       "2     0.166047 -1.213982    1.150933        0.894570    0.624867 -1.060033   \n",
       "3     0.891952 -1.439720    1.150933        0.894570    0.514639 -1.808268   \n",
       "5     0.818442 -1.728663    1.150933        0.894570    1.096467  0.313926   \n",
       "6    -1.080549 -0.137215   -0.925331       -0.649447   -0.367187  0.469369   \n",
       "\n",
       "   revol_bal  total_acc  out_prncp  total_rec_prncp  loan_status  \n",
       "1   0.005205   1.054674   0.036828        -0.240652            0  \n",
       "2   0.307508   1.881339   0.633009        -0.713929            0  \n",
       "3  -1.025707  -0.047546  -1.287684         3.705598            0  \n",
       "5   1.629982   1.146525   0.598392         0.452569            0  \n",
       "6  -0.428086   0.044306  -1.287684         0.352304            0  "
      ]
     },
     "execution_count": 24,
     "metadata": {},
     "output_type": "execute_result"
    }
   ],
   "source": [
    "del_col_names = ['loan_amnt','installment','delinq_2yrs','open_acc','total_pymnt','total_rec_int']\n",
    "data_with36_final = data_with36.drop(labels = del_col_names, axis = 1)\n",
    "data_with36_final.head()"
   ]
  },
  {
   "cell_type": "markdown",
   "metadata": {},
   "source": [
    "##### Now we do the same thing on dataset60."
   ]
  },
  {
   "cell_type": "code",
   "execution_count": 25,
   "metadata": {},
   "outputs": [
    {
     "data": {
      "text/html": [
       "<div>\n",
       "<style scoped>\n",
       "    .dataframe tbody tr th:only-of-type {\n",
       "        vertical-align: middle;\n",
       "    }\n",
       "\n",
       "    .dataframe tbody tr th {\n",
       "        vertical-align: top;\n",
       "    }\n",
       "\n",
       "    .dataframe thead th {\n",
       "        text-align: right;\n",
       "    }\n",
       "</style>\n",
       "<table border=\"1\" class=\"dataframe\">\n",
       "  <thead>\n",
       "    <tr style=\"text-align: right;\">\n",
       "      <th></th>\n",
       "      <th>loan_amnt</th>\n",
       "      <th>funded_amnt</th>\n",
       "      <th>int_rate</th>\n",
       "      <th>installment</th>\n",
       "      <th>emp_length</th>\n",
       "      <th>home_ownership</th>\n",
       "      <th>annual_inc</th>\n",
       "      <th>dti</th>\n",
       "      <th>delinq_2yrs</th>\n",
       "      <th>open_acc</th>\n",
       "      <th>revol_bal</th>\n",
       "      <th>total_acc</th>\n",
       "      <th>out_prncp</th>\n",
       "      <th>total_pymnt</th>\n",
       "      <th>total_rec_prncp</th>\n",
       "      <th>total_rec_int</th>\n",
       "      <th>loan_status</th>\n",
       "    </tr>\n",
       "  </thead>\n",
       "  <tbody>\n",
       "    <tr>\n",
       "      <th>loan_amnt</th>\n",
       "      <td>1.000000</td>\n",
       "      <td>0.999699</td>\n",
       "      <td>0.175791</td>\n",
       "      <td>0.973396</td>\n",
       "      <td>0.045609</td>\n",
       "      <td>0.142946</td>\n",
       "      <td>0.443264</td>\n",
       "      <td>-0.000178</td>\n",
       "      <td>0.057341</td>\n",
       "      <td>0.125484</td>\n",
       "      <td>0.274443</td>\n",
       "      <td>0.174765</td>\n",
       "      <td>0.666101</td>\n",
       "      <td>0.376249</td>\n",
       "      <td>0.244570</td>\n",
       "      <td>0.518416</td>\n",
       "      <td>0.017355</td>\n",
       "    </tr>\n",
       "    <tr>\n",
       "      <th>funded_amnt</th>\n",
       "      <td>0.999699</td>\n",
       "      <td>1.000000</td>\n",
       "      <td>0.175418</td>\n",
       "      <td>0.973600</td>\n",
       "      <td>0.045104</td>\n",
       "      <td>0.142718</td>\n",
       "      <td>0.443084</td>\n",
       "      <td>0.000081</td>\n",
       "      <td>0.056379</td>\n",
       "      <td>0.125002</td>\n",
       "      <td>0.274545</td>\n",
       "      <td>0.174157</td>\n",
       "      <td>0.666995</td>\n",
       "      <td>0.376150</td>\n",
       "      <td>0.244605</td>\n",
       "      <td>0.517997</td>\n",
       "      <td>0.015469</td>\n",
       "    </tr>\n",
       "    <tr>\n",
       "      <th>int_rate</th>\n",
       "      <td>0.175791</td>\n",
       "      <td>0.175418</td>\n",
       "      <td>1.000000</td>\n",
       "      <td>0.381865</td>\n",
       "      <td>0.005517</td>\n",
       "      <td>-0.154285</td>\n",
       "      <td>0.044670</td>\n",
       "      <td>0.080893</td>\n",
       "      <td>0.136499</td>\n",
       "      <td>0.004193</td>\n",
       "      <td>-0.025262</td>\n",
       "      <td>-0.007318</td>\n",
       "      <td>0.083771</td>\n",
       "      <td>0.156841</td>\n",
       "      <td>0.060118</td>\n",
       "      <td>0.334734</td>\n",
       "      <td>0.101096</td>\n",
       "    </tr>\n",
       "    <tr>\n",
       "      <th>installment</th>\n",
       "      <td>0.973396</td>\n",
       "      <td>0.973600</td>\n",
       "      <td>0.381865</td>\n",
       "      <td>1.000000</td>\n",
       "      <td>0.042040</td>\n",
       "      <td>0.097239</td>\n",
       "      <td>0.424060</td>\n",
       "      <td>0.015347</td>\n",
       "      <td>0.086276</td>\n",
       "      <td>0.114015</td>\n",
       "      <td>0.248628</td>\n",
       "      <td>0.159109</td>\n",
       "      <td>0.641266</td>\n",
       "      <td>0.388675</td>\n",
       "      <td>0.242171</td>\n",
       "      <td>0.565206</td>\n",
       "      <td>0.036915</td>\n",
       "    </tr>\n",
       "    <tr>\n",
       "      <th>emp_length</th>\n",
       "      <td>0.045609</td>\n",
       "      <td>0.045104</td>\n",
       "      <td>0.005517</td>\n",
       "      <td>0.042040</td>\n",
       "      <td>1.000000</td>\n",
       "      <td>0.118359</td>\n",
       "      <td>-0.001082</td>\n",
       "      <td>0.056690</td>\n",
       "      <td>0.017391</td>\n",
       "      <td>0.042352</td>\n",
       "      <td>0.038279</td>\n",
       "      <td>0.084073</td>\n",
       "      <td>0.063529</td>\n",
       "      <td>-0.026984</td>\n",
       "      <td>-0.036244</td>\n",
       "      <td>0.017056</td>\n",
       "      <td>-0.015203</td>\n",
       "    </tr>\n",
       "    <tr>\n",
       "      <th>home_ownership</th>\n",
       "      <td>0.142946</td>\n",
       "      <td>0.142718</td>\n",
       "      <td>-0.154285</td>\n",
       "      <td>0.097239</td>\n",
       "      <td>0.118359</td>\n",
       "      <td>1.000000</td>\n",
       "      <td>0.135393</td>\n",
       "      <td>-0.037216</td>\n",
       "      <td>0.001887</td>\n",
       "      <td>0.099159</td>\n",
       "      <td>0.044376</td>\n",
       "      <td>0.138636</td>\n",
       "      <td>0.125787</td>\n",
       "      <td>0.015936</td>\n",
       "      <td>0.008072</td>\n",
       "      <td>0.028201</td>\n",
       "      <td>-0.029768</td>\n",
       "    </tr>\n",
       "    <tr>\n",
       "      <th>annual_inc</th>\n",
       "      <td>0.443264</td>\n",
       "      <td>0.443084</td>\n",
       "      <td>0.044670</td>\n",
       "      <td>0.424060</td>\n",
       "      <td>-0.001082</td>\n",
       "      <td>0.135393</td>\n",
       "      <td>1.000000</td>\n",
       "      <td>-0.258186</td>\n",
       "      <td>0.083611</td>\n",
       "      <td>0.141332</td>\n",
       "      <td>0.296095</td>\n",
       "      <td>0.207091</td>\n",
       "      <td>0.299134</td>\n",
       "      <td>0.164248</td>\n",
       "      <td>0.123086</td>\n",
       "      <td>0.180612</td>\n",
       "      <td>-0.028176</td>\n",
       "    </tr>\n",
       "    <tr>\n",
       "      <th>dti</th>\n",
       "      <td>-0.000178</td>\n",
       "      <td>0.000081</td>\n",
       "      <td>0.080893</td>\n",
       "      <td>0.015347</td>\n",
       "      <td>0.056690</td>\n",
       "      <td>-0.037216</td>\n",
       "      <td>-0.258186</td>\n",
       "      <td>1.000000</td>\n",
       "      <td>-0.053815</td>\n",
       "      <td>0.273797</td>\n",
       "      <td>0.162277</td>\n",
       "      <td>0.233810</td>\n",
       "      <td>0.073146</td>\n",
       "      <td>-0.093632</td>\n",
       "      <td>-0.112018</td>\n",
       "      <td>0.016182</td>\n",
       "      <td>0.022395</td>\n",
       "    </tr>\n",
       "    <tr>\n",
       "      <th>delinq_2yrs</th>\n",
       "      <td>0.057341</td>\n",
       "      <td>0.056379</td>\n",
       "      <td>0.136499</td>\n",
       "      <td>0.086276</td>\n",
       "      <td>0.017391</td>\n",
       "      <td>0.001887</td>\n",
       "      <td>0.083611</td>\n",
       "      <td>-0.053815</td>\n",
       "      <td>1.000000</td>\n",
       "      <td>0.054180</td>\n",
       "      <td>0.003000</td>\n",
       "      <td>0.133192</td>\n",
       "      <td>0.025839</td>\n",
       "      <td>0.017341</td>\n",
       "      <td>0.014931</td>\n",
       "      <td>0.013288</td>\n",
       "      <td>-0.007580</td>\n",
       "    </tr>\n",
       "    <tr>\n",
       "      <th>open_acc</th>\n",
       "      <td>0.125484</td>\n",
       "      <td>0.125002</td>\n",
       "      <td>0.004193</td>\n",
       "      <td>0.114015</td>\n",
       "      <td>0.042352</td>\n",
       "      <td>0.099159</td>\n",
       "      <td>0.141332</td>\n",
       "      <td>0.273797</td>\n",
       "      <td>0.054180</td>\n",
       "      <td>1.000000</td>\n",
       "      <td>0.198331</td>\n",
       "      <td>0.677500</td>\n",
       "      <td>0.128548</td>\n",
       "      <td>-0.018149</td>\n",
       "      <td>-0.028922</td>\n",
       "      <td>0.023734</td>\n",
       "      <td>-0.016434</td>\n",
       "    </tr>\n",
       "    <tr>\n",
       "      <th>revol_bal</th>\n",
       "      <td>0.274443</td>\n",
       "      <td>0.274545</td>\n",
       "      <td>-0.025262</td>\n",
       "      <td>0.248628</td>\n",
       "      <td>0.038279</td>\n",
       "      <td>0.044376</td>\n",
       "      <td>0.296095</td>\n",
       "      <td>0.162277</td>\n",
       "      <td>0.003000</td>\n",
       "      <td>0.198331</td>\n",
       "      <td>1.000000</td>\n",
       "      <td>0.160241</td>\n",
       "      <td>0.221995</td>\n",
       "      <td>0.043302</td>\n",
       "      <td>0.017285</td>\n",
       "      <td>0.090455</td>\n",
       "      <td>-0.017961</td>\n",
       "    </tr>\n",
       "    <tr>\n",
       "      <th>total_acc</th>\n",
       "      <td>0.174765</td>\n",
       "      <td>0.174157</td>\n",
       "      <td>-0.007318</td>\n",
       "      <td>0.159109</td>\n",
       "      <td>0.084073</td>\n",
       "      <td>0.138636</td>\n",
       "      <td>0.207091</td>\n",
       "      <td>0.233810</td>\n",
       "      <td>0.133192</td>\n",
       "      <td>0.677500</td>\n",
       "      <td>0.160241</td>\n",
       "      <td>1.000000</td>\n",
       "      <td>0.122513</td>\n",
       "      <td>0.039376</td>\n",
       "      <td>0.031343</td>\n",
       "      <td>0.038466</td>\n",
       "      <td>-0.003559</td>\n",
       "    </tr>\n",
       "    <tr>\n",
       "      <th>out_prncp</th>\n",
       "      <td>0.666101</td>\n",
       "      <td>0.666995</td>\n",
       "      <td>0.083771</td>\n",
       "      <td>0.641266</td>\n",
       "      <td>0.063529</td>\n",
       "      <td>0.125787</td>\n",
       "      <td>0.299134</td>\n",
       "      <td>0.073146</td>\n",
       "      <td>0.025839</td>\n",
       "      <td>0.128548</td>\n",
       "      <td>0.221995</td>\n",
       "      <td>0.122513</td>\n",
       "      <td>1.000000</td>\n",
       "      <td>-0.339640</td>\n",
       "      <td>-0.479481</td>\n",
       "      <td>0.273110</td>\n",
       "      <td>-0.133964</td>\n",
       "    </tr>\n",
       "    <tr>\n",
       "      <th>total_pymnt</th>\n",
       "      <td>0.376249</td>\n",
       "      <td>0.376150</td>\n",
       "      <td>0.156841</td>\n",
       "      <td>0.388675</td>\n",
       "      <td>-0.026984</td>\n",
       "      <td>0.015936</td>\n",
       "      <td>0.164248</td>\n",
       "      <td>-0.093632</td>\n",
       "      <td>0.017341</td>\n",
       "      <td>-0.018149</td>\n",
       "      <td>0.043302</td>\n",
       "      <td>0.039376</td>\n",
       "      <td>-0.339640</td>\n",
       "      <td>1.000000</td>\n",
       "      <td>0.953562</td>\n",
       "      <td>0.513450</td>\n",
       "      <td>-0.025126</td>\n",
       "    </tr>\n",
       "    <tr>\n",
       "      <th>total_rec_prncp</th>\n",
       "      <td>0.244570</td>\n",
       "      <td>0.244605</td>\n",
       "      <td>0.060118</td>\n",
       "      <td>0.242171</td>\n",
       "      <td>-0.036244</td>\n",
       "      <td>0.008072</td>\n",
       "      <td>0.123086</td>\n",
       "      <td>-0.112018</td>\n",
       "      <td>0.014931</td>\n",
       "      <td>-0.028922</td>\n",
       "      <td>0.017285</td>\n",
       "      <td>0.031343</td>\n",
       "      <td>-0.479481</td>\n",
       "      <td>0.953562</td>\n",
       "      <td>1.000000</td>\n",
       "      <td>0.231326</td>\n",
       "      <td>-0.054822</td>\n",
       "    </tr>\n",
       "    <tr>\n",
       "      <th>total_rec_int</th>\n",
       "      <td>0.518416</td>\n",
       "      <td>0.517997</td>\n",
       "      <td>0.334734</td>\n",
       "      <td>0.565206</td>\n",
       "      <td>0.017056</td>\n",
       "      <td>0.028201</td>\n",
       "      <td>0.180612</td>\n",
       "      <td>0.016182</td>\n",
       "      <td>0.013288</td>\n",
       "      <td>0.023734</td>\n",
       "      <td>0.090455</td>\n",
       "      <td>0.038466</td>\n",
       "      <td>0.273110</td>\n",
       "      <td>0.513450</td>\n",
       "      <td>0.231326</td>\n",
       "      <td>1.000000</td>\n",
       "      <td>0.067533</td>\n",
       "    </tr>\n",
       "    <tr>\n",
       "      <th>loan_status</th>\n",
       "      <td>0.017355</td>\n",
       "      <td>0.015469</td>\n",
       "      <td>0.101096</td>\n",
       "      <td>0.036915</td>\n",
       "      <td>-0.015203</td>\n",
       "      <td>-0.029768</td>\n",
       "      <td>-0.028176</td>\n",
       "      <td>0.022395</td>\n",
       "      <td>-0.007580</td>\n",
       "      <td>-0.016434</td>\n",
       "      <td>-0.017961</td>\n",
       "      <td>-0.003559</td>\n",
       "      <td>-0.133964</td>\n",
       "      <td>-0.025126</td>\n",
       "      <td>-0.054822</td>\n",
       "      <td>0.067533</td>\n",
       "      <td>1.000000</td>\n",
       "    </tr>\n",
       "  </tbody>\n",
       "</table>\n",
       "</div>"
      ],
      "text/plain": [
       "                 loan_amnt  funded_amnt  int_rate  installment  emp_length  \\\n",
       "loan_amnt         1.000000     0.999699  0.175791     0.973396    0.045609   \n",
       "funded_amnt       0.999699     1.000000  0.175418     0.973600    0.045104   \n",
       "int_rate          0.175791     0.175418  1.000000     0.381865    0.005517   \n",
       "installment       0.973396     0.973600  0.381865     1.000000    0.042040   \n",
       "emp_length        0.045609     0.045104  0.005517     0.042040    1.000000   \n",
       "home_ownership    0.142946     0.142718 -0.154285     0.097239    0.118359   \n",
       "annual_inc        0.443264     0.443084  0.044670     0.424060   -0.001082   \n",
       "dti              -0.000178     0.000081  0.080893     0.015347    0.056690   \n",
       "delinq_2yrs       0.057341     0.056379  0.136499     0.086276    0.017391   \n",
       "open_acc          0.125484     0.125002  0.004193     0.114015    0.042352   \n",
       "revol_bal         0.274443     0.274545 -0.025262     0.248628    0.038279   \n",
       "total_acc         0.174765     0.174157 -0.007318     0.159109    0.084073   \n",
       "out_prncp         0.666101     0.666995  0.083771     0.641266    0.063529   \n",
       "total_pymnt       0.376249     0.376150  0.156841     0.388675   -0.026984   \n",
       "total_rec_prncp   0.244570     0.244605  0.060118     0.242171   -0.036244   \n",
       "total_rec_int     0.518416     0.517997  0.334734     0.565206    0.017056   \n",
       "loan_status       0.017355     0.015469  0.101096     0.036915   -0.015203   \n",
       "\n",
       "                 home_ownership  annual_inc       dti  delinq_2yrs  open_acc  \\\n",
       "loan_amnt              0.142946    0.443264 -0.000178     0.057341  0.125484   \n",
       "funded_amnt            0.142718    0.443084  0.000081     0.056379  0.125002   \n",
       "int_rate              -0.154285    0.044670  0.080893     0.136499  0.004193   \n",
       "installment            0.097239    0.424060  0.015347     0.086276  0.114015   \n",
       "emp_length             0.118359   -0.001082  0.056690     0.017391  0.042352   \n",
       "home_ownership         1.000000    0.135393 -0.037216     0.001887  0.099159   \n",
       "annual_inc             0.135393    1.000000 -0.258186     0.083611  0.141332   \n",
       "dti                   -0.037216   -0.258186  1.000000    -0.053815  0.273797   \n",
       "delinq_2yrs            0.001887    0.083611 -0.053815     1.000000  0.054180   \n",
       "open_acc               0.099159    0.141332  0.273797     0.054180  1.000000   \n",
       "revol_bal              0.044376    0.296095  0.162277     0.003000  0.198331   \n",
       "total_acc              0.138636    0.207091  0.233810     0.133192  0.677500   \n",
       "out_prncp              0.125787    0.299134  0.073146     0.025839  0.128548   \n",
       "total_pymnt            0.015936    0.164248 -0.093632     0.017341 -0.018149   \n",
       "total_rec_prncp        0.008072    0.123086 -0.112018     0.014931 -0.028922   \n",
       "total_rec_int          0.028201    0.180612  0.016182     0.013288  0.023734   \n",
       "loan_status           -0.029768   -0.028176  0.022395    -0.007580 -0.016434   \n",
       "\n",
       "                 revol_bal  total_acc  out_prncp  total_pymnt  \\\n",
       "loan_amnt         0.274443   0.174765   0.666101     0.376249   \n",
       "funded_amnt       0.274545   0.174157   0.666995     0.376150   \n",
       "int_rate         -0.025262  -0.007318   0.083771     0.156841   \n",
       "installment       0.248628   0.159109   0.641266     0.388675   \n",
       "emp_length        0.038279   0.084073   0.063529    -0.026984   \n",
       "home_ownership    0.044376   0.138636   0.125787     0.015936   \n",
       "annual_inc        0.296095   0.207091   0.299134     0.164248   \n",
       "dti               0.162277   0.233810   0.073146    -0.093632   \n",
       "delinq_2yrs       0.003000   0.133192   0.025839     0.017341   \n",
       "open_acc          0.198331   0.677500   0.128548    -0.018149   \n",
       "revol_bal         1.000000   0.160241   0.221995     0.043302   \n",
       "total_acc         0.160241   1.000000   0.122513     0.039376   \n",
       "out_prncp         0.221995   0.122513   1.000000    -0.339640   \n",
       "total_pymnt       0.043302   0.039376  -0.339640     1.000000   \n",
       "total_rec_prncp   0.017285   0.031343  -0.479481     0.953562   \n",
       "total_rec_int     0.090455   0.038466   0.273110     0.513450   \n",
       "loan_status      -0.017961  -0.003559  -0.133964    -0.025126   \n",
       "\n",
       "                 total_rec_prncp  total_rec_int  loan_status  \n",
       "loan_amnt               0.244570       0.518416     0.017355  \n",
       "funded_amnt             0.244605       0.517997     0.015469  \n",
       "int_rate                0.060118       0.334734     0.101096  \n",
       "installment             0.242171       0.565206     0.036915  \n",
       "emp_length             -0.036244       0.017056    -0.015203  \n",
       "home_ownership          0.008072       0.028201    -0.029768  \n",
       "annual_inc              0.123086       0.180612    -0.028176  \n",
       "dti                    -0.112018       0.016182     0.022395  \n",
       "delinq_2yrs             0.014931       0.013288    -0.007580  \n",
       "open_acc               -0.028922       0.023734    -0.016434  \n",
       "revol_bal               0.017285       0.090455    -0.017961  \n",
       "total_acc               0.031343       0.038466    -0.003559  \n",
       "out_prncp              -0.479481       0.273110    -0.133964  \n",
       "total_pymnt             0.953562       0.513450    -0.025126  \n",
       "total_rec_prncp         1.000000       0.231326    -0.054822  \n",
       "total_rec_int           0.231326       1.000000     0.067533  \n",
       "loan_status            -0.054822       0.067533     1.000000  "
      ]
     },
     "execution_count": 25,
     "metadata": {},
     "output_type": "execute_result"
    }
   ],
   "source": [
    "data_with60.corr()"
   ]
  },
  {
   "cell_type": "code",
   "execution_count": 26,
   "metadata": {},
   "outputs": [
    {
     "data": {
      "text/html": [
       "<div>\n",
       "<style scoped>\n",
       "    .dataframe tbody tr th:only-of-type {\n",
       "        vertical-align: middle;\n",
       "    }\n",
       "\n",
       "    .dataframe tbody tr th {\n",
       "        vertical-align: top;\n",
       "    }\n",
       "\n",
       "    .dataframe thead th {\n",
       "        text-align: right;\n",
       "    }\n",
       "</style>\n",
       "<table border=\"1\" class=\"dataframe\">\n",
       "  <thead>\n",
       "    <tr style=\"text-align: right;\">\n",
       "      <th></th>\n",
       "      <th>funded_amnt</th>\n",
       "      <th>int_rate</th>\n",
       "      <th>emp_length</th>\n",
       "      <th>home_ownership</th>\n",
       "      <th>annual_inc</th>\n",
       "      <th>dti</th>\n",
       "      <th>revol_bal</th>\n",
       "      <th>total_acc</th>\n",
       "      <th>out_prncp</th>\n",
       "      <th>total_rec_prncp</th>\n",
       "      <th>loan_status</th>\n",
       "    </tr>\n",
       "  </thead>\n",
       "  <tbody>\n",
       "    <tr>\n",
       "      <th>0</th>\n",
       "      <td>0.450896</td>\n",
       "      <td>-0.929553</td>\n",
       "      <td>1.150933</td>\n",
       "      <td>0.894570</td>\n",
       "      <td>0.025314</td>\n",
       "      <td>-0.054922</td>\n",
       "      <td>-0.476515</td>\n",
       "      <td>2.248745</td>\n",
       "      <td>0.377942</td>\n",
       "      <td>0.193349</td>\n",
       "      <td>0</td>\n",
       "    </tr>\n",
       "    <tr>\n",
       "      <th>4</th>\n",
       "      <td>0.267122</td>\n",
       "      <td>-1.439720</td>\n",
       "      <td>-1.221940</td>\n",
       "      <td>0.894570</td>\n",
       "      <td>-0.653780</td>\n",
       "      <td>-0.884830</td>\n",
       "      <td>-0.906248</td>\n",
       "      <td>-0.690508</td>\n",
       "      <td>0.340701</td>\n",
       "      <td>-0.057306</td>\n",
       "      <td>1</td>\n",
       "    </tr>\n",
       "    <tr>\n",
       "      <th>15</th>\n",
       "      <td>-0.801826</td>\n",
       "      <td>0.223965</td>\n",
       "      <td>0.261106</td>\n",
       "      <td>-0.649447</td>\n",
       "      <td>-0.477415</td>\n",
       "      <td>-1.534266</td>\n",
       "      <td>-0.591361</td>\n",
       "      <td>0.044306</td>\n",
       "      <td>-0.644022</td>\n",
       "      <td>-0.241375</td>\n",
       "      <td>0</td>\n",
       "    </tr>\n",
       "    <tr>\n",
       "      <th>16</th>\n",
       "      <td>0.695927</td>\n",
       "      <td>0.675440</td>\n",
       "      <td>1.150933</td>\n",
       "      <td>0.894570</td>\n",
       "      <td>0.183954</td>\n",
       "      <td>-0.274914</td>\n",
       "      <td>0.369576</td>\n",
       "      <td>0.503564</td>\n",
       "      <td>0.395631</td>\n",
       "      <td>0.580569</td>\n",
       "      <td>0</td>\n",
       "    </tr>\n",
       "    <tr>\n",
       "      <th>17</th>\n",
       "      <td>1.623982</td>\n",
       "      <td>-0.358437</td>\n",
       "      <td>-1.518549</td>\n",
       "      <td>-0.649447</td>\n",
       "      <td>0.430865</td>\n",
       "      <td>1.388854</td>\n",
       "      <td>1.915417</td>\n",
       "      <td>0.411712</td>\n",
       "      <td>-1.287684</td>\n",
       "      <td>-0.584190</td>\n",
       "      <td>1</td>\n",
       "    </tr>\n",
       "  </tbody>\n",
       "</table>\n",
       "</div>"
      ],
      "text/plain": [
       "    funded_amnt  int_rate  emp_length  home_ownership  annual_inc       dti  \\\n",
       "0      0.450896 -0.929553    1.150933        0.894570    0.025314 -0.054922   \n",
       "4      0.267122 -1.439720   -1.221940        0.894570   -0.653780 -0.884830   \n",
       "15    -0.801826  0.223965    0.261106       -0.649447   -0.477415 -1.534266   \n",
       "16     0.695927  0.675440    1.150933        0.894570    0.183954 -0.274914   \n",
       "17     1.623982 -0.358437   -1.518549       -0.649447    0.430865  1.388854   \n",
       "\n",
       "    revol_bal  total_acc  out_prncp  total_rec_prncp  loan_status  \n",
       "0   -0.476515   2.248745   0.377942         0.193349            0  \n",
       "4   -0.906248  -0.690508   0.340701        -0.057306            1  \n",
       "15  -0.591361   0.044306  -0.644022        -0.241375            0  \n",
       "16   0.369576   0.503564   0.395631         0.580569            0  \n",
       "17   1.915417   0.411712  -1.287684        -0.584190            1  "
      ]
     },
     "execution_count": 26,
     "metadata": {},
     "output_type": "execute_result"
    }
   ],
   "source": [
    "del_col_names = ['loan_amnt','installment','delinq_2yrs','open_acc','total_pymnt','total_rec_int']\n",
    "data_with60_final = data_with60.drop(labels = del_col_names, axis = 1)\n",
    "data_with60_final.head()\n",
    "#data_with60_final['loan_status'].value_counts()"
   ]
  },
  {
   "cell_type": "markdown",
   "metadata": {},
   "source": [
    "### 4. ROC Curve plot function\n",
    "<p>\n",
    "<span style=\"color:blue\">\n",
    "Defined an ROC curve plot function to plot ROC Curve for the models.\n",
    "</span>\n",
    "</p>"
   ]
  },
  {
   "cell_type": "code",
   "execution_count": 27,
   "metadata": {},
   "outputs": [],
   "source": [
    "import seaborn as sns\n",
    "sns.set('talk', 'whitegrid', 'dark', font_scale=1, font='Ricty',rc={\"lines.linewidth\": 2, 'grid.linestyle': '--'})\n",
    "def plotAUC(truth, pred, lab):\n",
    "    fpr, tpr, _ = metrics.roc_curve(truth,pred)\n",
    "    roc_auc = metrics.auc(fpr, tpr)\n",
    "    lw = 2\n",
    "    c = (np.random.rand(), np.random.rand(), np.random.rand())\n",
    "    plt.plot(fpr, tpr, color= c,lw=lw, label= lab +'(AUC = %0.2f)' % roc_auc)\n",
    "    plt.plot([0, 1], [0, 1], color='navy', lw=lw, linestyle='--')\n",
    "    plt.xlim([0.0, 1.0])\n",
    "    plt.ylim([0.0, 1.0])\n",
    "    plt.xlabel('False Positive Rate')\n",
    "    plt.ylabel('True Positive Rate')\n",
    "    plt.title('ROC curve')    #Receiver Operating Characteristic \n",
    "    plt.legend(loc=\"lower right\")"
   ]
  },
  {
   "cell_type": "markdown",
   "metadata": {},
   "source": [
    "### 5. Confusion Matrix Viz function\n",
    "<p>\n",
    "<span style=\"color:blue\">\n",
    "Define 2 Confusion Matrix Visualization functions to visualize True positives, True Negatives, False Positives and False Negatives for both 36-months and 60-months dataset for the models.\n",
    "</span>\n",
    "</p>"
   ]
  },
  {
   "cell_type": "code",
   "execution_count": 28,
   "metadata": {},
   "outputs": [],
   "source": [
    "# function for 36 months\n",
    "def plot_confusion_matrix_36(model, normalize=False):\n",
    "    cm = confusion_matrix(y_test_36, model, labels=[0, 1])\n",
    "    classes=[\"Good Loan\", \"Bad Loan\"]\n",
    "    cmap = plt.cm.Blues\n",
    "    title = \"Confusion Matrix\"\n",
    "    if normalize:\n",
    "        cm = cm.astype('float') / cm.sum(axis=1)[:, np.newaxis]\n",
    "        cm = np.around(cm, decimals=3)\n",
    "    plt.imshow(cm, interpolation='nearest', cmap=cmap)\n",
    "    plt.title(title)\n",
    "    plt.colorbar()\n",
    "    tick_marks = np.arange(len(classes))\n",
    "    plt.xticks(tick_marks, classes, rotation=45)\n",
    "    plt.yticks(tick_marks, classes)\n",
    "    thresh = cm.max() / 2.\n",
    "    for i, j in itertools.product(range(cm.shape[0]), range(cm.shape[1])):\n",
    "        plt.text(j, i, cm[i, j],\n",
    "                 horizontalalignment=\"center\",\n",
    "                 color=\"white\" if cm[i, j] > thresh else \"black\")\n",
    "    plt.tight_layout()\n",
    "    plt.ylabel('True label')\n",
    "    plt.xlabel('Predicted label')"
   ]
  },
  {
   "cell_type": "code",
   "execution_count": 29,
   "metadata": {},
   "outputs": [],
   "source": [
    "# function for 60 months\n",
    "def plot_confusion_matrix_60(model, normalize=False):\n",
    "    cm = confusion_matrix(y_test_60, model, labels=[0, 1])\n",
    "    classes=[\"Good Loan\", \"Bad Loan\"]\n",
    "    cmap = plt.cm.Blues\n",
    "    title = \"Confusion Matrix\"\n",
    "    if normalize:\n",
    "        cm = cm.astype('float') / cm.sum(axis=1)[:, np.newaxis]\n",
    "        cm = np.around(cm, decimals=3)\n",
    "    plt.imshow(cm, interpolation='nearest', cmap=cmap)\n",
    "    plt.title(title)\n",
    "    plt.colorbar()\n",
    "    tick_marks = np.arange(len(classes))\n",
    "    plt.xticks(tick_marks, classes, rotation=45)\n",
    "    plt.yticks(tick_marks, classes)\n",
    "    thresh = cm.max() / 2.\n",
    "    for i, j in itertools.product(range(cm.shape[0]), range(cm.shape[1])):\n",
    "        plt.text(j, i, cm[i, j],\n",
    "                 horizontalalignment=\"center\",\n",
    "                 color=\"white\" if cm[i, j] > thresh else \"black\")\n",
    "    plt.tight_layout()\n",
    "    plt.ylabel('True label')\n",
    "    plt.xlabel('Predicted label')"
   ]
  },
  {
   "cell_type": "markdown",
   "metadata": {},
   "source": [
    "### 6. Train test Spliting\n",
    "<p>\n",
    "<span style=\"color:blue\">\n",
    "For furthur data fitting, the dataset will be split 20% as the test dataset, where 80% of the dataset are split as training set     \n",
    "</span>\n",
    "</p>"
   ]
  },
  {
   "cell_type": "code",
   "execution_count": 30,
   "metadata": {},
   "outputs": [],
   "source": [
    "X_train_36, X_test_36, y_train_36, y_test_36 = train_test_split(data_with36_final.iloc[:,:-1], data_with36_final.iloc[:,-1], \n",
    "                                                                test_size=0.2, random_state=42)"
   ]
  },
  {
   "cell_type": "code",
   "execution_count": 31,
   "metadata": {},
   "outputs": [
    {
     "data": {
      "text/html": [
       "<div>\n",
       "<style scoped>\n",
       "    .dataframe tbody tr th:only-of-type {\n",
       "        vertical-align: middle;\n",
       "    }\n",
       "\n",
       "    .dataframe tbody tr th {\n",
       "        vertical-align: top;\n",
       "    }\n",
       "\n",
       "    .dataframe thead th {\n",
       "        text-align: right;\n",
       "    }\n",
       "</style>\n",
       "<table border=\"1\" class=\"dataframe\">\n",
       "  <thead>\n",
       "    <tr style=\"text-align: right;\">\n",
       "      <th></th>\n",
       "      <th>funded_amnt</th>\n",
       "      <th>int_rate</th>\n",
       "      <th>emp_length</th>\n",
       "      <th>home_ownership</th>\n",
       "      <th>annual_inc</th>\n",
       "      <th>dti</th>\n",
       "      <th>revol_bal</th>\n",
       "      <th>total_acc</th>\n",
       "      <th>out_prncp</th>\n",
       "      <th>total_rec_prncp</th>\n",
       "    </tr>\n",
       "  </thead>\n",
       "  <tbody>\n",
       "    <tr>\n",
       "      <th>3711</th>\n",
       "      <td>-0.939656</td>\n",
       "      <td>-0.487108</td>\n",
       "      <td>-0.628722</td>\n",
       "      <td>-0.649447</td>\n",
       "      <td>-0.543552</td>\n",
       "      <td>0.435119</td>\n",
       "      <td>-0.465511</td>\n",
       "      <td>-0.966063</td>\n",
       "      <td>-0.676105</td>\n",
       "      <td>-0.422480</td>\n",
       "    </tr>\n",
       "    <tr>\n",
       "      <th>5436</th>\n",
       "      <td>0.536656</td>\n",
       "      <td>-1.861848</td>\n",
       "      <td>1.150933</td>\n",
       "      <td>0.894570</td>\n",
       "      <td>0.102385</td>\n",
       "      <td>-1.324813</td>\n",
       "      <td>0.119985</td>\n",
       "      <td>-0.047546</td>\n",
       "      <td>0.574962</td>\n",
       "      <td>0.012386</td>\n",
       "    </tr>\n",
       "    <tr>\n",
       "      <th>6107</th>\n",
       "      <td>-0.667059</td>\n",
       "      <td>1.032105</td>\n",
       "      <td>-0.035503</td>\n",
       "      <td>0.894570</td>\n",
       "      <td>-0.786054</td>\n",
       "      <td>1.820933</td>\n",
       "      <td>-0.104567</td>\n",
       "      <td>-0.414953</td>\n",
       "      <td>-0.343676</td>\n",
       "      <td>-0.510392</td>\n",
       "    </tr>\n",
       "    <tr>\n",
       "      <th>3563</th>\n",
       "      <td>0.083349</td>\n",
       "      <td>-0.263628</td>\n",
       "      <td>0.261106</td>\n",
       "      <td>0.894570</td>\n",
       "      <td>0.073726</td>\n",
       "      <td>0.035972</td>\n",
       "      <td>-0.129935</td>\n",
       "      <td>0.687267</td>\n",
       "      <td>0.048005</td>\n",
       "      <td>0.115713</td>\n",
       "    </tr>\n",
       "    <tr>\n",
       "      <th>4833</th>\n",
       "      <td>-0.529229</td>\n",
       "      <td>0.343606</td>\n",
       "      <td>-0.035503</td>\n",
       "      <td>0.894570</td>\n",
       "      <td>-0.461542</td>\n",
       "      <td>0.628764</td>\n",
       "      <td>-0.813805</td>\n",
       "      <td>0.044306</td>\n",
       "      <td>-0.171903</td>\n",
       "      <td>-0.560965</td>\n",
       "    </tr>\n",
       "  </tbody>\n",
       "</table>\n",
       "</div>"
      ],
      "text/plain": [
       "      funded_amnt  int_rate  emp_length  home_ownership  annual_inc       dti  \\\n",
       "3711    -0.939656 -0.487108   -0.628722       -0.649447   -0.543552  0.435119   \n",
       "5436     0.536656 -1.861848    1.150933        0.894570    0.102385 -1.324813   \n",
       "6107    -0.667059  1.032105   -0.035503        0.894570   -0.786054  1.820933   \n",
       "3563     0.083349 -0.263628    0.261106        0.894570    0.073726  0.035972   \n",
       "4833    -0.529229  0.343606   -0.035503        0.894570   -0.461542  0.628764   \n",
       "\n",
       "      revol_bal  total_acc  out_prncp  total_rec_prncp  \n",
       "3711  -0.465511  -0.966063  -0.676105        -0.422480  \n",
       "5436   0.119985  -0.047546   0.574962         0.012386  \n",
       "6107  -0.104567  -0.414953  -0.343676        -0.510392  \n",
       "3563  -0.129935   0.687267   0.048005         0.115713  \n",
       "4833  -0.813805   0.044306  -0.171903        -0.560965  "
      ]
     },
     "execution_count": 31,
     "metadata": {},
     "output_type": "execute_result"
    }
   ],
   "source": [
    "X_train_36.head()"
   ]
  },
  {
   "cell_type": "code",
   "execution_count": 32,
   "metadata": {},
   "outputs": [],
   "source": [
    "X_train_60, X_test_60, y_train_60, y_test_60 = train_test_split(data_with60_final.iloc[:,:-1], data_with60_final.iloc[:,-1], \n",
    "                                                               test_size=0.2, random_state=42)"
   ]
  },
  {
   "cell_type": "code",
   "execution_count": 33,
   "metadata": {},
   "outputs": [
    {
     "data": {
      "text/html": [
       "<div>\n",
       "<style scoped>\n",
       "    .dataframe tbody tr th:only-of-type {\n",
       "        vertical-align: middle;\n",
       "    }\n",
       "\n",
       "    .dataframe tbody tr th {\n",
       "        vertical-align: top;\n",
       "    }\n",
       "\n",
       "    .dataframe thead th {\n",
       "        text-align: right;\n",
       "    }\n",
       "</style>\n",
       "<table border=\"1\" class=\"dataframe\">\n",
       "  <thead>\n",
       "    <tr style=\"text-align: right;\">\n",
       "      <th></th>\n",
       "      <th>funded_amnt</th>\n",
       "      <th>int_rate</th>\n",
       "      <th>emp_length</th>\n",
       "      <th>home_ownership</th>\n",
       "      <th>annual_inc</th>\n",
       "      <th>dti</th>\n",
       "      <th>revol_bal</th>\n",
       "      <th>total_acc</th>\n",
       "      <th>out_prncp</th>\n",
       "      <th>total_rec_prncp</th>\n",
       "    </tr>\n",
       "  </thead>\n",
       "  <tbody>\n",
       "    <tr>\n",
       "      <th>675</th>\n",
       "      <td>0.940958</td>\n",
       "      <td>0.454217</td>\n",
       "      <td>1.150933</td>\n",
       "      <td>-0.649447</td>\n",
       "      <td>-0.477415</td>\n",
       "      <td>-1.038956</td>\n",
       "      <td>-0.705680</td>\n",
       "      <td>-0.598656</td>\n",
       "      <td>0.750844</td>\n",
       "      <td>0.408006</td>\n",
       "    </tr>\n",
       "    <tr>\n",
       "      <th>906</th>\n",
       "      <td>1.185989</td>\n",
       "      <td>1.289445</td>\n",
       "      <td>-0.332113</td>\n",
       "      <td>-0.649447</td>\n",
       "      <td>0.624867</td>\n",
       "      <td>-1.800364</td>\n",
       "      <td>-0.511239</td>\n",
       "      <td>-0.231249</td>\n",
       "      <td>-0.466400</td>\n",
       "      <td>2.843366</td>\n",
       "    </tr>\n",
       "    <tr>\n",
       "      <th>5905</th>\n",
       "      <td>1.256435</td>\n",
       "      <td>0.740904</td>\n",
       "      <td>-1.221940</td>\n",
       "      <td>-0.649447</td>\n",
       "      <td>-0.367187</td>\n",
       "      <td>-0.552867</td>\n",
       "      <td>0.641042</td>\n",
       "      <td>-1.149766</td>\n",
       "      <td>1.561389</td>\n",
       "      <td>-0.399965</td>\n",
       "    </tr>\n",
       "    <tr>\n",
       "      <th>6163</th>\n",
       "      <td>0.450896</td>\n",
       "      <td>0.361665</td>\n",
       "      <td>-1.221940</td>\n",
       "      <td>-0.649447</td>\n",
       "      <td>-0.697871</td>\n",
       "      <td>-1.090331</td>\n",
       "      <td>-0.380645</td>\n",
       "      <td>-0.323101</td>\n",
       "      <td>0.791635</td>\n",
       "      <td>-0.492762</td>\n",
       "    </tr>\n",
       "    <tr>\n",
       "      <th>4883</th>\n",
       "      <td>-0.100424</td>\n",
       "      <td>1.957628</td>\n",
       "      <td>0.261106</td>\n",
       "      <td>0.894570</td>\n",
       "      <td>-0.433324</td>\n",
       "      <td>-0.373712</td>\n",
       "      <td>-0.208278</td>\n",
       "      <td>-0.414953</td>\n",
       "      <td>0.259141</td>\n",
       "      <td>-0.546875</td>\n",
       "    </tr>\n",
       "  </tbody>\n",
       "</table>\n",
       "</div>"
      ],
      "text/plain": [
       "      funded_amnt  int_rate  emp_length  home_ownership  annual_inc       dti  \\\n",
       "675      0.940958  0.454217    1.150933       -0.649447   -0.477415 -1.038956   \n",
       "906      1.185989  1.289445   -0.332113       -0.649447    0.624867 -1.800364   \n",
       "5905     1.256435  0.740904   -1.221940       -0.649447   -0.367187 -0.552867   \n",
       "6163     0.450896  0.361665   -1.221940       -0.649447   -0.697871 -1.090331   \n",
       "4883    -0.100424  1.957628    0.261106        0.894570   -0.433324 -0.373712   \n",
       "\n",
       "      revol_bal  total_acc  out_prncp  total_rec_prncp  \n",
       "675   -0.705680  -0.598656   0.750844         0.408006  \n",
       "906   -0.511239  -0.231249  -0.466400         2.843366  \n",
       "5905   0.641042  -1.149766   1.561389        -0.399965  \n",
       "6163  -0.380645  -0.323101   0.791635        -0.492762  \n",
       "4883  -0.208278  -0.414953   0.259141        -0.546875  "
      ]
     },
     "execution_count": 33,
     "metadata": {},
     "output_type": "execute_result"
    }
   ],
   "source": [
    "X_train_60.head()"
   ]
  },
  {
   "cell_type": "markdown",
   "metadata": {},
   "source": [
    "###  7. Feature Selection using RFE (Recursive Feature Elimination) and PCA\n",
    "<p>\n",
    "<span style=\"color:blue\">\n",
    "To further select the most suitable features, we applied RFE together with PCA to the datasets.\n",
    "</span>\n",
    "</p>"
   ]
  },
  {
   "cell_type": "markdown",
   "metadata": {},
   "source": [
    "##### Selection for dataset36"
   ]
  },
  {
   "cell_type": "code",
   "execution_count": 34,
   "metadata": {},
   "outputs": [
    {
     "name": "stdout",
     "output_type": "stream",
     "text": [
      "[ True  True False False False  True  True  True  True  True]\n",
      "[1 1 3 2 4 1 1 1 1 1]\n"
     ]
    }
   ],
   "source": [
    "#RFE\n",
    "clf_LR = linear_model.LogisticRegression(C=1e30)\n",
    "clf_LR.fit(X_train_36,y_train_36)\n",
    "rfe = RFE(clf_LR, 7)\n",
    "rfe = rfe.fit(data_with36_final.iloc[:,:-1].values, data_with36_final.iloc[:,-1].values)\n",
    "# summarize the selection of the attributes\n",
    "print(rfe.support_)\n",
    "print(rfe.ranking_)\n",
    "\n",
    "#funded_amnt,int_rate,emp_length,home_ownership,annual_inc,dti,revol_bal,total_acc,out_prncp,total_rec_prncp,loan_status"
   ]
  },
  {
   "cell_type": "code",
   "execution_count": 35,
   "metadata": {},
   "outputs": [
    {
     "name": "stdout",
     "output_type": "stream",
     "text": [
      "Expected Variance is [0.26795886 0.14130372 0.11883644 0.09983393 0.09658334 0.0829803\n",
      " 0.07778389]\n"
     ]
    }
   ],
   "source": [
    "#PCA\n",
    "pca = PCA(n_components= 7, whiten=True)    #keep n components\n",
    "X_train_36_pca = pca.fit_transform(X_train_36)\n",
    "X_test_36_pca = pca.transform(X_test_36)\n",
    "explained_variance = pca.explained_variance_ratio_    #the percentage of variance of each component\n",
    "print('Expected Variance is '+ str(explained_variance))"
   ]
  },
  {
   "cell_type": "markdown",
   "metadata": {},
   "source": [
    "After trying different number of features, results showed that 7 of the 10 features should be kept and the total percentage of variance explanation of 7 features is over 88%"
   ]
  },
  {
   "cell_type": "code",
   "execution_count": 36,
   "metadata": {},
   "outputs": [
    {
     "data": {
      "text/plain": [
       "0.885280474895572"
      ]
     },
     "execution_count": 36,
     "metadata": {},
     "output_type": "execute_result"
    }
   ],
   "source": [
    "explained_variance.sum()"
   ]
  },
  {
   "cell_type": "code",
   "execution_count": 37,
   "metadata": {},
   "outputs": [
    {
     "name": "stdout",
     "output_type": "stream",
     "text": [
      "(5815, 7)\n",
      "(7269, 8)\n"
     ]
    },
    {
     "data": {
      "text/html": [
       "<div>\n",
       "<style scoped>\n",
       "    .dataframe tbody tr th:only-of-type {\n",
       "        vertical-align: middle;\n",
       "    }\n",
       "\n",
       "    .dataframe tbody tr th {\n",
       "        vertical-align: top;\n",
       "    }\n",
       "\n",
       "    .dataframe thead th {\n",
       "        text-align: right;\n",
       "    }\n",
       "</style>\n",
       "<table border=\"1\" class=\"dataframe\">\n",
       "  <thead>\n",
       "    <tr style=\"text-align: right;\">\n",
       "      <th></th>\n",
       "      <th>funded_amnt</th>\n",
       "      <th>int_rate</th>\n",
       "      <th>dti</th>\n",
       "      <th>revol_bal</th>\n",
       "      <th>total_acc</th>\n",
       "      <th>out_prncp</th>\n",
       "      <th>total_rec_prncp</th>\n",
       "      <th>loan_status</th>\n",
       "    </tr>\n",
       "  </thead>\n",
       "  <tbody>\n",
       "    <tr>\n",
       "      <th>1</th>\n",
       "      <td>-0.137179</td>\n",
       "      <td>0.950839</td>\n",
       "      <td>-0.016720</td>\n",
       "      <td>0.005205</td>\n",
       "      <td>1.054674</td>\n",
       "      <td>0.036828</td>\n",
       "      <td>-0.240652</td>\n",
       "      <td>0</td>\n",
       "    </tr>\n",
       "    <tr>\n",
       "      <th>2</th>\n",
       "      <td>0.166047</td>\n",
       "      <td>-1.213982</td>\n",
       "      <td>-1.060033</td>\n",
       "      <td>0.307508</td>\n",
       "      <td>1.881339</td>\n",
       "      <td>0.633009</td>\n",
       "      <td>-0.713929</td>\n",
       "      <td>0</td>\n",
       "    </tr>\n",
       "    <tr>\n",
       "      <th>3</th>\n",
       "      <td>0.891952</td>\n",
       "      <td>-1.439720</td>\n",
       "      <td>-1.808268</td>\n",
       "      <td>-1.025707</td>\n",
       "      <td>-0.047546</td>\n",
       "      <td>-1.287684</td>\n",
       "      <td>3.705598</td>\n",
       "      <td>0</td>\n",
       "    </tr>\n",
       "    <tr>\n",
       "      <th>5</th>\n",
       "      <td>0.818442</td>\n",
       "      <td>-1.728663</td>\n",
       "      <td>0.313926</td>\n",
       "      <td>1.629982</td>\n",
       "      <td>1.146525</td>\n",
       "      <td>0.598392</td>\n",
       "      <td>0.452569</td>\n",
       "      <td>0</td>\n",
       "    </tr>\n",
       "    <tr>\n",
       "      <th>6</th>\n",
       "      <td>-1.080549</td>\n",
       "      <td>-0.137215</td>\n",
       "      <td>0.469369</td>\n",
       "      <td>-0.428086</td>\n",
       "      <td>0.044306</td>\n",
       "      <td>-1.287684</td>\n",
       "      <td>0.352304</td>\n",
       "      <td>0</td>\n",
       "    </tr>\n",
       "  </tbody>\n",
       "</table>\n",
       "</div>"
      ],
      "text/plain": [
       "   funded_amnt  int_rate       dti  revol_bal  total_acc  out_prncp  \\\n",
       "1    -0.137179  0.950839 -0.016720   0.005205   1.054674   0.036828   \n",
       "2     0.166047 -1.213982 -1.060033   0.307508   1.881339   0.633009   \n",
       "3     0.891952 -1.439720 -1.808268  -1.025707  -0.047546  -1.287684   \n",
       "5     0.818442 -1.728663  0.313926   1.629982   1.146525   0.598392   \n",
       "6    -1.080549 -0.137215  0.469369  -0.428086   0.044306  -1.287684   \n",
       "\n",
       "   total_rec_prncp  loan_status  \n",
       "1        -0.240652            0  \n",
       "2        -0.713929            0  \n",
       "3         3.705598            0  \n",
       "5         0.452569            0  \n",
       "6         0.352304            0  "
      ]
     },
     "execution_count": 37,
     "metadata": {},
     "output_type": "execute_result"
    }
   ],
   "source": [
    "#selection based on the results\n",
    "features_36 = ['funded_amnt', 'int_rate', 'dti', 'revol_bal', 'total_acc', 'out_prncp', 'total_rec_prncp', 'loan_status']\n",
    "data_clean_36 = data_with36_final\n",
    "X_train_36, X_test_36 = X_train_36[features_36[:-1]], X_test_36[features_36[:-1]]\n",
    "data_clean_36 = data_clean_36[features_36]\n",
    "print(X_train_36.shape)\n",
    "print(data_clean_36.shape)\n",
    "data_clean_36.head()"
   ]
  },
  {
   "cell_type": "code",
   "execution_count": 38,
   "metadata": {},
   "outputs": [
    {
     "name": "stderr",
     "output_type": "stream",
     "text": [
      "findfont: Font family ['Ricty'] not found. Falling back to DejaVu Sans.\n"
     ]
    },
    {
     "data": {
      "text/plain": [
       "Text(0.5, 1, 'correlation matrix of final selected features for dataset 36')"
      ]
     },
     "execution_count": 38,
     "metadata": {},
     "output_type": "execute_result"
    },
    {
     "name": "stderr",
     "output_type": "stream",
     "text": [
      "findfont: Font family ['Ricty'] not found. Falling back to DejaVu Sans.\n"
     ]
    },
    {
     "data": {
      "image/png": "[encoded data removed]",
      "text/plain": [
       "<Figure size 360x360 with 2 Axes>"
      ]
     },
     "metadata": {},
     "output_type": "display_data"
    }
   ],
   "source": [
    "dataViz = data_clean_36\n",
    "sns.set_context(context='notebook')\n",
    "fig, ax = plt.subplots(figsize=(5,5)) \n",
    "corr = dataViz.corr()    #the correlation matrix\n",
    "# Generate a mask for the upper triangle\n",
    "mask = np.zeros_like(corr, dtype=np.bool)\n",
    "mask[np.tril_indices_from(mask)] = True\n",
    "# Generate a custom diverging colormap\n",
    "cmap = sns.diverging_palette(220, 10, as_cmap=True)\n",
    "sns.heatmap(corr, cmap=cmap,linewidths=1, vmin=-1, vmax=1, square=True, cbar=True, center=0, ax=ax, mask=mask)\n",
    "plt.title(\"correlation matrix of final selected features for dataset 36\")"
   ]
  },
  {
   "cell_type": "markdown",
   "metadata": {},
   "source": [
    "##### Selection for dataset60"
   ]
  },
  {
   "cell_type": "code",
   "execution_count": 39,
   "metadata": {},
   "outputs": [
    {
     "name": "stdout",
     "output_type": "stream",
     "text": [
      "[ True  True  True False  True False False False  True  True]\n",
      "[1 1 1 4 1 3 2 5 1 1]\n"
     ]
    }
   ],
   "source": [
    "clf_LR = linear_model.LogisticRegression(C=1e30)\n",
    "clf_LR.fit(X_train_60,y_train_60)\n",
    "rfe = RFE(clf_LR, 6)\n",
    "rfe = rfe.fit(data_with60_final.iloc[:,:-1].values, data_with60_final.iloc[:,-1].values)\n",
    "print(rfe.support_)\n",
    "print(rfe.ranking_)\n",
    "\n",
    "#funded_amnt,int_rate,emp_length,home_ownership,annual_inc,dti,revol_bal,total_acc,out_prncp,total_rec_prncp,loan_status"
   ]
  },
  {
   "cell_type": "code",
   "execution_count": 40,
   "metadata": {},
   "outputs": [
    {
     "name": "stdout",
     "output_type": "stream",
     "text": [
      "Expected Variance is [0.22770434 0.18785342 0.12095839 0.11116571 0.09808296 0.08644617]\n"
     ]
    }
   ],
   "source": [
    "pca = PCA(n_components= 6, whiten=True)\n",
    "X_train_60_pca = pca.fit_transform(X_train_60)\n",
    "X_test_60_pca = pca.transform(X_test_60)\n",
    "explained_variance = pca.explained_variance_ratio_\n",
    "print('Expected Variance is '+ str(explained_variance))\n",
    "# funded_amnt, int_rate, emp_length, home_ownership, annual_inc, dti, delinq_2yrs, open_acc, revol_bal, total_rec_prncp, loan_status"
   ]
  },
  {
   "cell_type": "markdown",
   "metadata": {},
   "source": [
    "After trying different number of features, results showed that 6 of the 10 features should be kept and the total percentage of variance explanation of 6 features is over 83%"
   ]
  },
  {
   "cell_type": "code",
   "execution_count": 41,
   "metadata": {},
   "outputs": [
    {
     "data": {
      "text/plain": [
       "0.8322109941923757"
      ]
     },
     "execution_count": 41,
     "metadata": {},
     "output_type": "execute_result"
    }
   ],
   "source": [
    "explained_variance.sum()"
   ]
  },
  {
   "cell_type": "code",
   "execution_count": 42,
   "metadata": {},
   "outputs": [
    {
     "name": "stdout",
     "output_type": "stream",
     "text": [
      "(1804, 6)\n",
      "(2255, 7)\n"
     ]
    },
    {
     "data": {
      "text/html": [
       "<div>\n",
       "<style scoped>\n",
       "    .dataframe tbody tr th:only-of-type {\n",
       "        vertical-align: middle;\n",
       "    }\n",
       "\n",
       "    .dataframe tbody tr th {\n",
       "        vertical-align: top;\n",
       "    }\n",
       "\n",
       "    .dataframe thead th {\n",
       "        text-align: right;\n",
       "    }\n",
       "</style>\n",
       "<table border=\"1\" class=\"dataframe\">\n",
       "  <thead>\n",
       "    <tr style=\"text-align: right;\">\n",
       "      <th></th>\n",
       "      <th>funded_amnt</th>\n",
       "      <th>int_rate</th>\n",
       "      <th>emp_length</th>\n",
       "      <th>annual_inc</th>\n",
       "      <th>out_prncp</th>\n",
       "      <th>total_rec_prncp</th>\n",
       "      <th>loan_status</th>\n",
       "    </tr>\n",
       "  </thead>\n",
       "  <tbody>\n",
       "    <tr>\n",
       "      <th>0</th>\n",
       "      <td>0.450896</td>\n",
       "      <td>-0.929553</td>\n",
       "      <td>1.150933</td>\n",
       "      <td>0.025314</td>\n",
       "      <td>0.377942</td>\n",
       "      <td>0.193349</td>\n",
       "      <td>0</td>\n",
       "    </tr>\n",
       "    <tr>\n",
       "      <th>4</th>\n",
       "      <td>0.267122</td>\n",
       "      <td>-1.439720</td>\n",
       "      <td>-1.221940</td>\n",
       "      <td>-0.653780</td>\n",
       "      <td>0.340701</td>\n",
       "      <td>-0.057306</td>\n",
       "      <td>1</td>\n",
       "    </tr>\n",
       "    <tr>\n",
       "      <th>15</th>\n",
       "      <td>-0.801826</td>\n",
       "      <td>0.223965</td>\n",
       "      <td>0.261106</td>\n",
       "      <td>-0.477415</td>\n",
       "      <td>-0.644022</td>\n",
       "      <td>-0.241375</td>\n",
       "      <td>0</td>\n",
       "    </tr>\n",
       "    <tr>\n",
       "      <th>16</th>\n",
       "      <td>0.695927</td>\n",
       "      <td>0.675440</td>\n",
       "      <td>1.150933</td>\n",
       "      <td>0.183954</td>\n",
       "      <td>0.395631</td>\n",
       "      <td>0.580569</td>\n",
       "      <td>0</td>\n",
       "    </tr>\n",
       "    <tr>\n",
       "      <th>17</th>\n",
       "      <td>1.623982</td>\n",
       "      <td>-0.358437</td>\n",
       "      <td>-1.518549</td>\n",
       "      <td>0.430865</td>\n",
       "      <td>-1.287684</td>\n",
       "      <td>-0.584190</td>\n",
       "      <td>1</td>\n",
       "    </tr>\n",
       "  </tbody>\n",
       "</table>\n",
       "</div>"
      ],
      "text/plain": [
       "    funded_amnt  int_rate  emp_length  annual_inc  out_prncp  total_rec_prncp  \\\n",
       "0      0.450896 -0.929553    1.150933    0.025314   0.377942         0.193349   \n",
       "4      0.267122 -1.439720   -1.221940   -0.653780   0.340701        -0.057306   \n",
       "15    -0.801826  0.223965    0.261106   -0.477415  -0.644022        -0.241375   \n",
       "16     0.695927  0.675440    1.150933    0.183954   0.395631         0.580569   \n",
       "17     1.623982 -0.358437   -1.518549    0.430865  -1.287684        -0.584190   \n",
       "\n",
       "    loan_status  \n",
       "0             0  \n",
       "4             1  \n",
       "15            0  \n",
       "16            0  \n",
       "17            1  "
      ]
     },
     "execution_count": 42,
     "metadata": {},
     "output_type": "execute_result"
    }
   ],
   "source": [
    "features_60 = ['funded_amnt', 'int_rate', 'emp_length',  'annual_inc', 'out_prncp', 'total_rec_prncp', 'loan_status']\n",
    "data_clean_60 = data_with60_final\n",
    "X_train_60, X_test_60 = X_train_60[features_60[:-1]], X_test_60[features_60[:-1]]\n",
    "data_clean_60 = data_clean_60[features_60]\n",
    "print(X_train_60.shape)\n",
    "print(data_clean_60.shape)\n",
    "data_clean_60.head()"
   ]
  },
  {
   "cell_type": "code",
   "execution_count": 43,
   "metadata": {},
   "outputs": [
    {
     "data": {
      "text/plain": [
       "Text(0.5, 1, 'correlation matrix of final selected features for dataset 60')"
      ]
     },
     "execution_count": 43,
     "metadata": {},
     "output_type": "execute_result"
    },
    {
     "data": {
      "image/png": "[encoded data removed]",
      "text/plain": [
       "<Figure size 360x360 with 2 Axes>"
      ]
     },
     "metadata": {},
     "output_type": "display_data"
    }
   ],
   "source": [
    "dataViz = data_clean_60\n",
    "sns.set_context(context='notebook')\n",
    "fig, ax = plt.subplots(figsize=(5,5)) \n",
    "corr = dataViz.corr()\n",
    "mask = np.zeros_like(corr, dtype=np.bool)\n",
    "mask[np.tril_indices_from(mask)] = True\n",
    "cmap = sns.diverging_palette(220, 10, as_cmap=True)\n",
    "sns.heatmap(corr, cmap=cmap,linewidths=1, vmin=-1, vmax=1, square=True, cbar=True, center=0, ax=ax, mask=mask)\n",
    "plt.title(\"correlation matrix of final selected features for dataset 60\")"
   ]
  },
  {
   "cell_type": "markdown",
   "metadata": {},
   "source": [
    "### 8. Model: Random Forest with randomized Search\n",
    "<p>\n",
    "<span style=\"color:blue\">\n",
    ">We chose 2 model to fit the data and do comparisions. <br>\n",
    "> The first model is Random Forest. <br>\n",
    "> We used the randomized search to find the best hyper paramters for the model.\n",
    "</span>\n",
    "</p>"
   ]
  },
  {
   "cell_type": "markdown",
   "metadata": {},
   "source": [
    "##### RF for dataset 36 months"
   ]
  },
  {
   "cell_type": "code",
   "execution_count": 44,
   "metadata": {},
   "outputs": [
    {
     "name": "stdout",
     "output_type": "stream",
     "text": [
      "RandomForestClassifier(bootstrap=True, class_weight=None, criterion='gini',\n",
      "            max_depth=None, max_features=6, max_leaf_nodes=None,\n",
      "            min_impurity_decrease=0.0, min_impurity_split=None,\n",
      "            min_samples_leaf=1, min_samples_split=2,\n",
      "            min_weight_fraction_leaf=0.0, n_estimators=10, n_jobs=None,\n",
      "            oob_score=False, random_state=0, verbose=0, warm_start=False)\n"
     ]
    }
   ],
   "source": [
    "from sklearn.model_selection import RandomizedSearchCV\n",
    "\n",
    "rf = RandomForestClassifier(criterion='gini', random_state=0)\n",
    "maxFeatures = range(1,data_clean_36.shape[1]-1)\n",
    "param_dist = dict(max_features=maxFeatures)\n",
    "rand = RandomizedSearchCV(rf, param_dist, cv=10, scoring='accuracy', n_iter=len(maxFeatures), random_state=10)\n",
    "X=data_clean_36.iloc[:,:-1].values\n",
    "y=data_clean_36.iloc[:,-1].values\n",
    "rand.fit(X,y)\n",
    "\n",
    "print(rand.best_estimator_)"
   ]
  },
  {
   "cell_type": "code",
   "execution_count": 45,
   "metadata": {},
   "outputs": [
    {
     "name": "stdout",
     "output_type": "stream",
     "text": [
      "Random Forest accuracy for data of 36 months is  0.9779917469050894\n"
     ]
    }
   ],
   "source": [
    "#Predict the value of y by using Random Forest, and then compare the predicted value to the actual value and record ROC values.\n",
    "randomForest = RandomForestClassifier(bootstrap=True,criterion = \"gini\",max_features=rand.best_estimator_.max_features,random_state=0 )\n",
    "randomForest.fit(X_train_36,y_train_36)\n",
    "rfPredict_36 = randomForest.predict(X_test_36)\n",
    "rfPredictproba_36 = randomForest.predict_proba(X_test_36)[:,1] #for ROC curve\n",
    "rfAccuracy_36 = accuracy_score(y_test_36,rfPredict_36)\n",
    "roc_score_36 = metrics.roc_auc_score(y_test_36,rfPredict_36)\n",
    "print(\"Random Forest accuracy for data of 36 months is \",rfAccuracy_36)"
   ]
  },
  {
   "cell_type": "markdown",
   "metadata": {},
   "source": [
    "Now we showed the feature importance. \n",
    "The importance of each features can be revealed from the below figure. \n",
    "The importance of feature ‘total_rec_prncp’ exceeded 35%"
   ]
  },
  {
   "cell_type": "code",
   "execution_count": 46,
   "metadata": {},
   "outputs": [
    {
     "data": {
      "text/plain": [
       "Text(0, 0.5, 'Normalized Gini Importance')"
      ]
     },
     "execution_count": 46,
     "metadata": {},
     "output_type": "execute_result"
    },
    {
     "data": {
      "image/png": "[encoded data removed]",
      "text/plain": [
       "<Figure size 432x288 with 1 Axes>"
      ]
     },
     "metadata": {},
     "output_type": "display_data"
    }
   ],
   "source": [
    "fig, ax = plt.subplots()\n",
    "width=0.35\n",
    "ax.bar(np.arange(len(features_36)-1), randomForest.feature_importances_, width, color='r')\n",
    "ax.set_xticks(np.arange(len(randomForest.feature_importances_)))\n",
    "ax.set_xticklabels(X_train_36.columns.values,rotation=90)\n",
    "plt.title('Feature Importance from DT')\n",
    "ax.set_ylabel('Normalized Gini Importance')"
   ]
  },
  {
   "cell_type": "markdown",
   "metadata": {},
   "source": [
    "##### RF for dataset 60 months"
   ]
  },
  {
   "cell_type": "code",
   "execution_count": 47,
   "metadata": {},
   "outputs": [
    {
     "name": "stdout",
     "output_type": "stream",
     "text": [
      "RandomForestClassifier(bootstrap=True, class_weight=None, criterion='gini',\n",
      "            max_depth=None, max_features=2, max_leaf_nodes=None,\n",
      "            min_impurity_decrease=0.0, min_impurity_split=None,\n",
      "            min_samples_leaf=1, min_samples_split=2,\n",
      "            min_weight_fraction_leaf=0.0, n_estimators=10, n_jobs=None,\n",
      "            oob_score=False, random_state=0, verbose=0, warm_start=False)\n"
     ]
    }
   ],
   "source": [
    "rf = RandomForestClassifier(criterion='gini', random_state=0)\n",
    "maxFeatures = range(1,data_clean_60.shape[1]-1)\n",
    "param_dist = dict(max_features=maxFeatures)\n",
    "rand = RandomizedSearchCV(rf, param_dist, cv=10, scoring='accuracy', n_iter=len(maxFeatures), random_state=10)\n",
    "X=data_clean_60.iloc[:,:-1].values\n",
    "y=data_clean_60.iloc[:,-1].values\n",
    "rand.fit(X,y)\n",
    "print(rand.best_estimator_)"
   ]
  },
  {
   "cell_type": "code",
   "execution_count": 48,
   "metadata": {},
   "outputs": [
    {
     "name": "stdout",
     "output_type": "stream",
     "text": [
      "Random Forest accuracy for data of 60 months is  0.9556541019955654\n"
     ]
    }
   ],
   "source": [
    "randomForest = RandomForestClassifier(bootstrap=True,criterion = \"gini\",max_features=rand.best_estimator_.max_features,random_state=0 )\n",
    "randomForest.fit(X_train_60,y_train_60)\n",
    "rfPredict_60 = randomForest.predict(X_test_60)\n",
    "rfPredictproba_60 = randomForest.predict_proba(X_test_60)[:,1] #for ROC curve\n",
    "rfAccuracy_60 = accuracy_score(y_test_60,rfPredict_60)\n",
    "roc_score_60 = metrics.roc_auc_score(y_test_60,rfPredict_60)\n",
    "print(\"Random Forest accuracy for data of 60 months is \",rfAccuracy_60)"
   ]
  },
  {
   "cell_type": "markdown",
   "metadata": {},
   "source": [
    "Similar to the '36' dataset，in the '60' dataset, the feature ‘total_rec_prncp’ accounts for the top importance, exceeding 30%."
   ]
  },
  {
   "cell_type": "code",
   "execution_count": 49,
   "metadata": {},
   "outputs": [
    {
     "data": {
      "text/plain": [
       "Text(0, 0.5, 'Normalized Gini Importance')"
      ]
     },
     "execution_count": 49,
     "metadata": {},
     "output_type": "execute_result"
    },
    {
     "data": {
      "image/png": "[encoded data removed]",
      "text/plain": [
       "<Figure size 432x288 with 1 Axes>"
      ]
     },
     "metadata": {},
     "output_type": "display_data"
    }
   ],
   "source": [
    "fig, ax = plt.subplots()\n",
    "width=0.35\n",
    "ax.bar(np.arange(len(features_60)-1), randomForest.feature_importances_, width, color='r')\n",
    "ax.set_xticks(np.arange(len(randomForest.feature_importances_)))\n",
    "ax.set_xticklabels(X_train_60.columns.values,rotation=90)\n",
    "plt.title('Feature Importance from DT')\n",
    "ax.set_ylabel('Normalized Gini Importance')"
   ]
  },
  {
   "cell_type": "markdown",
   "metadata": {},
   "source": [
    "### 9. Logistic Regression with Grid Search\n",
    "<p>\n",
    "<span style=\"color:blue\">\n",
    "> The second model we used is Logistic Regression. <br>\n",
    "> We tried to use the grid search to find the best hyper paramters for the model.\n",
    "</span>\n",
    "</p>"
   ]
  },
  {
   "cell_type": "markdown",
   "metadata": {},
   "source": [
    "##### LR for dataset 36 months"
   ]
  },
  {
   "cell_type": "code",
   "execution_count": 50,
   "metadata": {},
   "outputs": [
    {
     "name": "stdout",
     "output_type": "stream",
     "text": [
      "Best accuracy is 0.9800522767918558\n",
      "LogisticRegression(C=100, class_weight=None, dual=False, fit_intercept=True,\n",
      "          intercept_scaling=1, max_iter=100, multi_class='warn',\n",
      "          n_jobs=None, penalty='l2', random_state=0, solver='warn',\n",
      "          tol=0.0001, verbose=0, warm_start=False)\n"
     ]
    }
   ],
   "source": [
    "from sklearn.model_selection import GridSearchCV\n",
    "\n",
    "def cross_validation_best_parameters_36(model, param_grid):\n",
    "    grid = GridSearchCV(model, param_grid,cv=10, scoring='accuracy')\n",
    "    X=data_clean_36.iloc[:,:-1].values\n",
    "    y=data_clean_36.iloc[:,-1].values\n",
    "    grid.fit(X,y)\n",
    "    #mean_scores = [result.mean_validation_score for result in grid.grid_scores_]\n",
    "    mean_scores = grid.cv_results_['mean_test_score']\n",
    "    return mean_scores,grid.best_score_,grid.best_estimator_\n",
    "logreg = linear_model.LogisticRegression(random_state=0)\n",
    "c=[0.001, 0.01, 0.1, 1, 10, 100, 1000]\n",
    "param_grid = dict(C=c)\n",
    "mean_scores,Best_Accuracy, Best_classifier = cross_validation_best_parameters_36(logreg,param_grid)\n",
    "print(\"Best accuracy is \"+ str(Best_Accuracy))\n",
    "print(Best_classifier)"
   ]
  },
  {
   "cell_type": "code",
   "execution_count": 51,
   "metadata": {},
   "outputs": [
    {
     "name": "stdout",
     "output_type": "stream",
     "text": [
      "Logistic regression accuracy for data of 36 months is  0.9807427785419532\n"
     ]
    }
   ],
   "source": [
    "clf_LR = linear_model.LogisticRegression(C=Best_classifier.C)\n",
    "clf_LR.fit(X_train_36,y_train_36)\n",
    "LR_Predict_36 = clf_LR.predict_proba(X_test_36)[:,1]\n",
    "LR_Predict_bin_36 = clf_LR.predict(X_test_36)\n",
    "LR_Accuracy_36 = accuracy_score(y_test_36,LR_Predict_36.round())\n",
    "print(\"Logistic regression accuracy for data of 36 months is \",LR_Accuracy_36)"
   ]
  },
  {
   "cell_type": "markdown",
   "metadata": {},
   "source": [
    "##### LR for dataset 60 months"
   ]
  },
  {
   "cell_type": "code",
   "execution_count": 52,
   "metadata": {},
   "outputs": [
    {
     "name": "stdout",
     "output_type": "stream",
     "text": [
      "Best accuracy is 0.9605321507760533\n",
      "LogisticRegression(C=10, class_weight=None, dual=False, fit_intercept=True,\n",
      "          intercept_scaling=1, max_iter=100, multi_class='warn',\n",
      "          n_jobs=None, penalty='l2', random_state=0, solver='warn',\n",
      "          tol=0.0001, verbose=0, warm_start=False)\n"
     ]
    }
   ],
   "source": [
    "def cross_validation_best_parameters_60(model, param_grid):\n",
    "    grid = GridSearchCV(model, param_grid,cv=10, scoring='accuracy')\n",
    "    X=data_clean_60.iloc[:,:-1].values\n",
    "    y=data_clean_60.iloc[:,-1].values\n",
    "    grid.fit(X,y)\n",
    "    #mean_scores = [result.mean_validation_score for result in grid.grid_scores_]\n",
    "    mean_scores = grid.cv_results_['mean_test_score']\n",
    "    return mean_scores,grid.best_score_,grid.best_estimator_\n",
    "logreg = linear_model.LogisticRegression(random_state=0)\n",
    "c=[0.001, 0.01, 0.1, 1, 10, 100, 1000]\n",
    "param_grid = dict(C=c)\n",
    "mean_scores,Best_Accuracy, Best_classifier = cross_validation_best_parameters_60(logreg,param_grid)\n",
    "print(\"Best accuracy is \"+ str(Best_Accuracy))\n",
    "print(Best_classifier)"
   ]
  },
  {
   "cell_type": "code",
   "execution_count": 53,
   "metadata": {},
   "outputs": [
    {
     "name": "stdout",
     "output_type": "stream",
     "text": [
      "Logistic regression accuracy for data of 60 months is  0.9556541019955654\n"
     ]
    }
   ],
   "source": [
    "clf_LR = linear_model.LogisticRegression(C=Best_classifier.C)\n",
    "clf_LR.fit(X_train_60,y_train_60)\n",
    "LR_Predict_60 = clf_LR.predict_proba(X_test_60)[:,1]\n",
    "LR_Predict_bin_60 = clf_LR.predict(X_test_60)\n",
    "LR_Accuracy_60 = accuracy_score(y_test_60,LR_Predict_60.round())\n",
    "print(\"Logistic regression accuracy for data of 60 months is \",LR_Accuracy_60)"
   ]
  },
  {
   "cell_type": "markdown",
   "metadata": {},
   "source": [
    "To summarize the model accuract for different models and different datasets, put the accuracy outputs together."
   ]
  },
  {
   "cell_type": "code",
   "execution_count": 54,
   "metadata": {},
   "outputs": [
    {
     "name": "stdout",
     "output_type": "stream",
     "text": [
      "Random Forest accuracy for data of 36 months is  0.9779917469050894\n",
      "Random Forest accuracy for data of 60 months is  0.9556541019955654\n",
      "Logistic regression accuracy for data of 36 months is  0.9807427785419532\n",
      "Logistic regression accuracy for data of 60 months is  0.9556541019955654\n"
     ]
    }
   ],
   "source": [
    "print(\"Random Forest accuracy for data of 36 months is \",rfAccuracy_36)\n",
    "print(\"Random Forest accuracy for data of 60 months is \",rfAccuracy_60)\n",
    "print(\"Logistic regression accuracy for data of 36 months is \",LR_Accuracy_36)\n",
    "print(\"Logistic regression accuracy for data of 60 months is \",LR_Accuracy_60)"
   ]
  },
  {
   "cell_type": "markdown",
   "metadata": {},
   "source": [
    "## Evaluate your model performance in deciding whether to lend or not."
   ]
  },
  {
   "cell_type": "markdown",
   "metadata": {},
   "source": [
    "### 10. Model comparison and performance evaluation\n",
    "<p>\n",
    "<span style=\"color:blue\">\n",
    "> Compared the performances of Random Forest and Logistic Regression. <br>\n",
    "> Compared the performances of 36 months and 60 months data under the same model. <br>\n",
    "> Used ROC curve and confusion matrix for evaluation as the model accuracy is not enough.<br><br>\n",
    "> In our models, prediction of \"Good Loan\" means that we decide to lend the money to the customer, and prediction of \"Bad loan\" represents the opposite.\n",
    "</span>\n",
    "</p>"
   ]
  },
  {
   "cell_type": "markdown",
   "metadata": {},
   "source": [
    "##### Raondom Forest for 36 months"
   ]
  },
  {
   "cell_type": "code",
   "execution_count": 55,
   "metadata": {},
   "outputs": [
    {
     "data": {
      "image/png": "[encoded data removed]",
      "text/plain": [
       "<Figure size 432x288 with 1 Axes>"
      ]
     },
     "metadata": {},
     "output_type": "display_data"
    },
    {
     "data": {
      "image/png": "[encoded data removed]",
      "text/plain": [
       "<Figure size 432x432 with 2 Axes>"
      ]
     },
     "metadata": {},
     "output_type": "display_data"
    }
   ],
   "source": [
    "plotAUC(y_test_36,rfPredictproba_36, 'Random Forest')\n",
    "plt.show()\n",
    "plt.figure(figsize=(6,6))\n",
    "plot_confusion_matrix_36(rfPredict_36, normalize=True)\n",
    "plt.show()"
   ]
  },
  {
   "cell_type": "markdown",
   "metadata": {},
   "source": [
    "Figures showed the ROC curve of the '36 months' dataset, AUC equals to 0.78. <br>\n",
    "- The ROC curve appraches 0.6 at the beginning and increases sharply at the beginning and then increasing linearly. Meanwhile, it can be drawn from the below confusion matrix that TP is very high but TN is not obvious.\n",
    "- We think that it might be caused the data: the value '0' of 'loan_status' indicates GOOD LOAN and the ratio of '0' exceeds 95%, while ratio of '1' for BAD LOAN is less than 5%."
   ]
  },
  {
   "cell_type": "markdown",
   "metadata": {},
   "source": [
    "##### Raondom Forest for 60 months"
   ]
  },
  {
   "cell_type": "code",
   "execution_count": 56,
   "metadata": {},
   "outputs": [
    {
     "data": {
      "image/png": "[encoded data removed]",
      "text/plain": [
       "<Figure size 432x288 with 1 Axes>"
      ]
     },
     "metadata": {},
     "output_type": "display_data"
    },
    {
     "data": {
      "image/png": "[encoded data removed]",
      "text/plain": [
       "<Figure size 432x432 with 2 Axes>"
      ]
     },
     "metadata": {},
     "output_type": "display_data"
    }
   ],
   "source": [
    "plotAUC(y_test_60,rfPredictproba_60, 'Random Forest')\n",
    "plt.show()\n",
    "plt.figure(figsize=(6,6))\n",
    "plot_confusion_matrix_60(rfPredict_60, normalize=True)\n",
    "plt.show()"
   ]
  },
  {
   "cell_type": "markdown",
   "metadata": {},
   "source": [
    "Comparing with the '36' dataset's, the ROC curve of the '60' dataset is performing worse, where AUC equals to 0.68.<br>\n",
    "- In the test dataset, there are 2255 samples in the '60' dataset, in which the value '0' of 'loan_status' accounts for 94%. This contributes to the ROC curve increasing sharply at the beginning and then increasing linearly.<br>\n",
    "- Due to the fact that the sample size is small as well as not evenly distributed, the model outcome is not ideal.<br>\n",
    "- The confusion matrix is similar compared to the other dataset. However, the prediction of the BAD LOAN of the '60' dataset is less accurate and the value of TN is too low. In other words, the performance is not good."
   ]
  },
  {
   "cell_type": "markdown",
   "metadata": {},
   "source": [
    "##### Logistic Regression for 36 months\n",
    "To have better comparison between different models, we included the ROC curve of Random Forest in the figure of Logistic Regression"
   ]
  },
  {
   "cell_type": "code",
   "execution_count": 57,
   "metadata": {},
   "outputs": [
    {
     "data": {
      "image/png": "[encoded data removed]",
      "text/plain": [
       "<Figure size 432x288 with 1 Axes>"
      ]
     },
     "metadata": {},
     "output_type": "display_data"
    },
    {
     "data": {
      "image/png": "[encoded data removed]",
      "text/plain": [
       "<Figure size 432x432 with 2 Axes>"
      ]
     },
     "metadata": {},
     "output_type": "display_data"
    }
   ],
   "source": [
    "plotAUC(y_test_36,rfPredictproba_36, 'Random Forest')\n",
    "plotAUC(y_test_36,LR_Predict_36,'Logistic Regression')\n",
    "plt.show()\n",
    "plt.figure(figsize=(6,6))\n",
    "plot_confusion_matrix_36(LR_Predict_bin_36, normalize=True)\n",
    "plt.show()"
   ]
  },
  {
   "cell_type": "markdown",
   "metadata": {},
   "source": [
    "The figure demonstrates the performances on '36' dataset ROC curve under RF and LR.\n",
    "- It is obvious from the comparison that the AUC value of LR is larger than RF, which is 0.85.\n",
    "- It indicates that the results of the LR model is better, which is caused by the data.\n",
    "- The ROC curve increases rapidly at the beginning, and the TPR exceeds 0.5.\n",
    "- The performance of the confusion matrix is similar to RF's confusion matrix, where the value of TP is high and the value of TN is 0.541, also slightly better than the performance of RF."
   ]
  },
  {
   "cell_type": "markdown",
   "metadata": {},
   "source": [
    "##### Logistic Regression for 60 months"
   ]
  },
  {
   "cell_type": "code",
   "execution_count": 58,
   "metadata": {},
   "outputs": [
    {
     "data": {
      "image/png": "[encoded data removed]",
      "text/plain": [
       "<Figure size 432x288 with 1 Axes>"
      ]
     },
     "metadata": {},
     "output_type": "display_data"
    },
    {
     "data": {
      "image/png": "[encoded data removed]",
      "text/plain": [
       "<Figure size 432x432 with 2 Axes>"
      ]
     },
     "metadata": {},
     "output_type": "display_data"
    }
   ],
   "source": [
    "plotAUC(y_test_60,rfPredictproba_60, 'Random Forest')\n",
    "plotAUC(y_test_60,LR_Predict_60,'Logistic Regression')\n",
    "plt.show()\n",
    "plt.figure(figsize=(6,6))\n",
    "plot_confusion_matrix_60(LR_Predict_bin_60, normalize=True)\n",
    "plt.show()"
   ]
  },
  {
   "cell_type": "markdown",
   "metadata": {},
   "source": [
    "- Comparing the ROC curves of LR and RF relatively applied in the '36' dataset, the performance of the '60' dataset is not good.\n",
    "- The value of AUC in LR is 0.76, which is slighty better than the AUC value in RF, but is still not as good as the performance of the '36' dataset.\n",
    "- Likewise, comparing with the confusion matrix of the '36' dataset, even under the LR, the performance of the '60' dataset is not good with TN equals to 0.286."
   ]
  },
  {
   "cell_type": "markdown",
   "metadata": {},
   "source": [
    "### Precision,recall,F1score for all models\n",
    "<p>\n",
    "<span style=\"color:blue\">\n",
    "> To sum up the performances clearly, we showed the below table for all models and all datasets.\n",
    "</span>\n",
    "</p>"
   ]
  },
  {
   "cell_type": "code",
   "execution_count": 59,
   "metadata": {},
   "outputs": [
    {
     "name": "stdout",
     "output_type": "stream",
     "text": [
      "RF_36               precision    recall  f1-score   support\n",
      "\n",
      "           0       0.98      1.00      0.99      1393\n",
      "           1       0.89      0.54      0.67        61\n",
      "\n",
      "   micro avg       0.98      0.98      0.98      1454\n",
      "   macro avg       0.94      0.77      0.83      1454\n",
      "weighted avg       0.98      0.98      0.98      1454\n",
      "\n",
      "LR_36               precision    recall  f1-score   support\n",
      "\n",
      "           0       0.98      1.00      0.99      1393\n",
      "           1       1.00      0.54      0.70        61\n",
      "\n",
      "   micro avg       0.98      0.98      0.98      1454\n",
      "   macro avg       0.99      0.77      0.85      1454\n",
      "weighted avg       0.98      0.98      0.98      1454\n",
      "\n",
      "RF_60               precision    recall  f1-score   support\n",
      "\n",
      "           0       0.95      1.00      0.98       423\n",
      "           1       1.00      0.29      0.44        28\n",
      "\n",
      "   micro avg       0.96      0.96      0.96       451\n",
      "   macro avg       0.98      0.64      0.71       451\n",
      "weighted avg       0.96      0.96      0.94       451\n",
      "\n",
      "LR_60               precision    recall  f1-score   support\n",
      "\n",
      "           0       0.95      1.00      0.98       423\n",
      "           1       1.00      0.29      0.44        28\n",
      "\n",
      "   micro avg       0.96      0.96      0.96       451\n",
      "   macro avg       0.98      0.64      0.71       451\n",
      "weighted avg       0.96      0.96      0.94       451\n",
      "\n"
     ]
    }
   ],
   "source": [
    "from sklearn.metrics import classification_report\n",
    "print(\"RF_36\",classification_report(y_test_36, rfPredict_36, target_names=None))\n",
    "print(\"LR_36\",classification_report(y_test_36, LR_Predict_bin_36, target_names=None))\n",
    "print(\"RF_60\",classification_report(y_test_60, rfPredict_60, target_names=None))\n",
    "print(\"LR_60\",classification_report(y_test_60, LR_Predict_bin_60, target_names=None))"
   ]
  },
  {
   "cell_type": "markdown",
   "metadata": {},
   "source": [
    "#### We can now draw a conclusion that in this project, the Logistic Regression model performs better than the Random Forest model, while the performances of dataset of '36' are always better than '60'."
   ]
  }
 ],
 "metadata": {
  "kernelspec": {
   "display_name": "Python 3",
   "language": "python",
   "name": "python3"
  },
  "language_info": {
   "codemirror_mode": {
    "name": "ipython",
    "version": 3
   },
   "file_extension": ".py",
   "mimetype": "text/x-python",
   "name": "python",
   "nbconvert_exporter": "python",
   "pygments_lexer": "ipython3",
   "version": "3.7.3"
  }
 },
 "nbformat": 4,
 "nbformat_minor": 2
}
